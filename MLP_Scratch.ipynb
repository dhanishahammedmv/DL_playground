{
  "nbformat": 4,
  "nbformat_minor": 0,
  "metadata": {
    "colab": {
      "provenance": []
    },
    "kernelspec": {
      "name": "python3",
      "display_name": "Python 3"
    },
    "language_info": {
      "name": "python"
    }
  },
  "cells": [
    {
      "cell_type": "code",
      "source": [
        "import gzip\n",
        "import pickle\n",
        "import random\n",
        "import numpy as np"
      ],
      "metadata": {
        "id": "CO4sRTE4u05b"
      },
      "execution_count": 1,
      "outputs": []
    },
    {
      "cell_type": "code",
      "source": [
        "def load_data():\n",
        "  \"\"\"Returns MNIST data as a tuple with training data, validation data, test data\"\"\"\n",
        "  with gzip.open('mnist.pkl.gz', 'rb') as file:\n",
        "    training_data, validation_data, test_data = pickle.load(file, encoding='latin1')\n",
        "  return (training_data, validation_data, test_data)\n",
        "\n",
        "def load_data_wrapper():\n",
        "  tr_d, va_d, te_d = load_data()\n",
        "  training_inputs = [np.reshape(x, (784, 1)) for x in tr_d[0]]\n",
        "  training_results = [vectorized_result(y) for y in tr_d[1]]\n",
        "  training_data = list(zip(training_inputs, training_results))\n",
        "  validation_inputs = [np.reshape(x, (784, 1)) for x in va_d[0]]\n",
        "  validation_data = list(zip(validation_inputs, va_d[1]))\n",
        "  test_inputs = [np.reshape(x, (784, 1)) for x in te_d[0]]\n",
        "  test_data = list(zip(test_inputs, te_d[1]))\n",
        "  return (training_data, validation_data, test_data)\n",
        "\n",
        "def vectorized_result(j):\n",
        "  \"\"\"Return a 10-dimensional unit vector with a 1.0 in the jth position and zeroes elsewhere.\n",
        "  This is used to convert a digit (0...9) into a corresponding desired output from the neural network.\"\"\"\n",
        "  e = np.zeros((10, 1))\n",
        "  e[j] = 1.0\n",
        "  return e"
      ],
      "metadata": {
        "id": "m2pWBFS4u18k"
      },
      "execution_count": 3,
      "outputs": []
    },
    {
      "cell_type": "code",
      "source": [
        "# Activation function\n",
        "def sigmoid(z):\n",
        "  return 1.0 / (1.0 + np.exp(-z))\n",
        "\n",
        "def sigmoid_prime(z):\n",
        "  return sigmoid(z) * (1 - sigmoid(z))\n",
        "\n",
        "# Cost functions\n",
        "class QuadraticCost:\n",
        "  @staticmethod\n",
        "  def fn(a, y):\n",
        "    return 0.5 * np.linalg.norm(a - y) ** 2\n",
        "\n",
        "  @staticmethod\n",
        "  def delta(z, a, y):\n",
        "    return (a - y) * sigmoid_prime(z)\n",
        "\n",
        "class CrossEntropyCost:\n",
        "  @staticmethod\n",
        "  def fn(a, y):\n",
        "    return np.sum(np.nan_to_num(-y*np.log(a) - (1-y)*np.log(1-a)))\n",
        "\n",
        "  @staticmethod\n",
        "  def delta(z, a, y):\n",
        "    return (a - y)"
      ],
      "metadata": {
        "id": "h7aMkGhLvLIH"
      },
      "execution_count": 4,
      "outputs": []
    },
    {
      "cell_type": "code",
      "source": [
        "class Network:\n",
        "  \"\"\"The list ``sizes`` contains the number of neurons in the respective layers of the network.\"\"\"\n",
        "  def __init__(self, sizes, cost=CrossEntropyCost):\n",
        "    self.num_layers = len(sizes)\n",
        "    self.sizes = sizes\n",
        "    self.default_weight_initializer()\n",
        "    self.cost = cost\n",
        "\n",
        "  def default_weight_initializer(self):\n",
        "    self.biases = [np.random.randn(y, 1) for y in self.sizes[1:]]\n",
        "    self.weights = [np.random.randn(y, x) / np.sqrt(x) for x, y in zip(self.sizes[:-1], self.sizes[1:])]\n",
        "\n",
        "  def feedforward(self, a):\n",
        "    for b, w in zip(self.biases, self.weights):\n",
        "      a = sigmoid(np.dot(w, a) + b)\n",
        "    return a\n",
        "\n",
        "  def SGD(self, training_data, epochs, mini_batch_size, eta, test_data=None, monitor_evaluation_accuracy=False):\n",
        "    n = len(training_data)\n",
        "    if test_data:\n",
        "      n_test = len(test_data)\n",
        "    for j in range(epochs):\n",
        "      random.shuffle(training_data)\n",
        "      mini_batches = [training_data[k:k + mini_batch_size] for k in range(0, n, mini_batch_size)]\n",
        "      for mini_batch in mini_batches:\n",
        "        self.update_mini_batch(mini_batch, eta)\n",
        "      if test_data:\n",
        "        print(f\"Epoch {j+1}, Accuracy: {self.evaluate(test_data)} / {len(test_data)}\")\n",
        "      else:\n",
        "        print()\n",
        "\n",
        "  def update_mini_batch(self, mini_batch, eta):\n",
        "    \"\"\"Update the network's weights and biases by applying gradient descent using\n",
        "    backpropagation to a single mini batch. The \"mini_batch\" is a list of tuples \"(x, y)\",\n",
        "    and \"eta\" is the learning rate.\"\"\"\n",
        "    nabla_b = [np.zeros(b.shape) for b in self.biases]\n",
        "    nabla_w = [np.zeros(w.shape) for w in self.weights]\n",
        "    for x, y in mini_batch:\n",
        "      delta_nabla_b, delta_nabla_w = self.backprop(x, y)\n",
        "      nabla_b = [nb + dnb for nb, dnb in zip(nabla_b, delta_nabla_b)]\n",
        "      nabla_w = [nw + dnw for nw, dnw in zip(nabla_w, delta_nabla_w)]\n",
        "    self.weights = [w - (eta / len(mini_batch)) * nw\n",
        "                      for w, nw in zip(self.weights, nabla_w)]\n",
        "    self.biases = [b - (eta / len(mini_batch)) * nb\n",
        "                      for b, nb in zip(self.biases, nabla_b)]\n",
        "\n",
        "  def backprop(self, x, y):\n",
        "    \"\"\"Return a tuple ``(nabla_b, nabla_w)`` representing the gradient for the cost function C_x.\n",
        "    ``nabla_b`` and ``nabla_w`` are layer-by-layer lists of numpy arrays, similar\n",
        "    to ``self.biases`` and ``self.weights``.\"\"\"\n",
        "    nabla_b = [np.zeros(b.shape) for b in self.biases]\n",
        "    nabla_w = [np.zeros(w.shape) for w in self.weights]\n",
        "\n",
        "    # forward pass\n",
        "    activation = x\n",
        "    activations = [x]  # list to store all the activations, layer by layer\n",
        "    zs = [] # list to store all the z vectors, layer by layer\n",
        "    for b, w in zip(self.biases, self.weights):\n",
        "      z = np.dot(w, activation) + b\n",
        "      zs.append(z)\n",
        "      activation = sigmoid(z)\n",
        "      activations.append(activation)\n",
        "\n",
        "    # backward pass\n",
        "    delta = self.cost.delta(zs[-1], activations[-1], y)\n",
        "    nabla_b[-1] = delta\n",
        "    nabla_w[-1] = np.dot(delta, activations[-2].T)\n",
        "    for l in range(2, self.num_layers):\n",
        "      z = zs[-l]\n",
        "      sp = sigmoid_prime(z)\n",
        "      delta = np.dot(self.weights[-l + 1].T, delta) * sp\n",
        "      nabla_b[-l] = delta\n",
        "      nabla_w[-l] = np.dot(delta, activations[-l - 1].T)\n",
        "    return (nabla_b, nabla_w)\n",
        "\n",
        "  def evaluate(self, test_data):\n",
        "    test_results = [(np.argmax(self.feedforward(x)), y) for (x, y) in test_data]\n",
        "    return sum(int(x == y) for (x, y) in test_results)\n",
        "\n",
        "  def cost_derivative(self, output_activations, y):\n",
        "    return output_activations - y\n",
        "\n",
        "training_data, validation_data, test_data = load_data_wrapper()"
      ],
      "metadata": {
        "id": "f9wa9IgL4Ogm"
      },
      "execution_count": 18,
      "outputs": []
    },
    {
      "cell_type": "code",
      "source": [
        "net = Network([784, 30, 10], cost=CrossEntropyCost)\n",
        "net.SGD(training_data, epochs=30, mini_batch_size=10, eta=0.5, test_data=test_data)"
      ],
      "metadata": {
        "colab": {
          "base_uri": "https://localhost:8080/"
        },
        "id": "9ra5XxTA2HXT",
        "outputId": "314c21f1-a6b7-46fb-87f7-e40f6b4bb70d"
      },
      "execution_count": 19,
      "outputs": [
        {
          "output_type": "stream",
          "name": "stdout",
          "text": [
            "Epoch 1, Accuracy: 9387 / 10000\n",
            "Epoch 2, Accuracy: 9346 / 10000\n",
            "Epoch 3, Accuracy: 9462 / 10000\n",
            "Epoch 4, Accuracy: 9526 / 10000\n",
            "Epoch 5, Accuracy: 9531 / 10000\n",
            "Epoch 6, Accuracy: 9554 / 10000\n",
            "Epoch 7, Accuracy: 9565 / 10000\n",
            "Epoch 8, Accuracy: 9546 / 10000\n",
            "Epoch 9, Accuracy: 9571 / 10000\n",
            "Epoch 10, Accuracy: 9567 / 10000\n",
            "Epoch 11, Accuracy: 9579 / 10000\n",
            "Epoch 12, Accuracy: 9568 / 10000\n",
            "Epoch 13, Accuracy: 9567 / 10000\n",
            "Epoch 14, Accuracy: 9580 / 10000\n",
            "Epoch 15, Accuracy: 9567 / 10000\n",
            "Epoch 16, Accuracy: 9588 / 10000\n",
            "Epoch 17, Accuracy: 9564 / 10000\n",
            "Epoch 18, Accuracy: 9579 / 10000\n",
            "Epoch 19, Accuracy: 9592 / 10000\n",
            "Epoch 20, Accuracy: 9584 / 10000\n",
            "Epoch 21, Accuracy: 9562 / 10000\n",
            "Epoch 22, Accuracy: 9583 / 10000\n",
            "Epoch 23, Accuracy: 9566 / 10000\n",
            "Epoch 24, Accuracy: 9597 / 10000\n",
            "Epoch 25, Accuracy: 9571 / 10000\n",
            "Epoch 26, Accuracy: 9579 / 10000\n",
            "Epoch 27, Accuracy: 9575 / 10000\n",
            "Epoch 28, Accuracy: 9589 / 10000\n",
            "Epoch 29, Accuracy: 9589 / 10000\n",
            "Epoch 30, Accuracy: 9568 / 10000\n"
          ]
        }
      ]
    },
    {
      "cell_type": "code",
      "source": [
        "net = Network([784, 30, 10], cost=QuadraticCost)\n",
        "net.SGD(training_data, epochs=30, mini_batch_size=10, eta=0.5, test_data=test_data)"
      ],
      "metadata": {
        "colab": {
          "base_uri": "https://localhost:8080/"
        },
        "id": "CsILyX4pAIq2",
        "outputId": "c7dc843c-1bc1-4e96-e344-799b8380cb05"
      },
      "execution_count": 20,
      "outputs": [
        {
          "output_type": "stream",
          "name": "stdout",
          "text": [
            "Epoch 1, Accuracy: 9185 / 10000\n",
            "Epoch 2, Accuracy: 9349 / 10000\n",
            "Epoch 3, Accuracy: 9412 / 10000\n",
            "Epoch 4, Accuracy: 9447 / 10000\n",
            "Epoch 5, Accuracy: 9478 / 10000\n",
            "Epoch 6, Accuracy: 9488 / 10000\n",
            "Epoch 7, Accuracy: 9519 / 10000\n",
            "Epoch 8, Accuracy: 9543 / 10000\n",
            "Epoch 9, Accuracy: 9546 / 10000\n",
            "Epoch 10, Accuracy: 9547 / 10000\n",
            "Epoch 11, Accuracy: 9555 / 10000\n",
            "Epoch 12, Accuracy: 9570 / 10000\n",
            "Epoch 13, Accuracy: 9579 / 10000\n",
            "Epoch 14, Accuracy: 9573 / 10000\n",
            "Epoch 15, Accuracy: 9575 / 10000\n",
            "Epoch 16, Accuracy: 9584 / 10000\n",
            "Epoch 17, Accuracy: 9587 / 10000\n",
            "Epoch 18, Accuracy: 9585 / 10000\n",
            "Epoch 19, Accuracy: 9566 / 10000\n",
            "Epoch 20, Accuracy: 9578 / 10000\n",
            "Epoch 21, Accuracy: 9589 / 10000\n",
            "Epoch 22, Accuracy: 9600 / 10000\n",
            "Epoch 23, Accuracy: 9604 / 10000\n",
            "Epoch 24, Accuracy: 9590 / 10000\n",
            "Epoch 25, Accuracy: 9596 / 10000\n",
            "Epoch 26, Accuracy: 9597 / 10000\n",
            "Epoch 27, Accuracy: 9600 / 10000\n",
            "Epoch 28, Accuracy: 9591 / 10000\n",
            "Epoch 29, Accuracy: 9600 / 10000\n",
            "Epoch 30, Accuracy: 9601 / 10000\n"
          ]
        }
      ]
    }
  ]
}