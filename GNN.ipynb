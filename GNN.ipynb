{
  "nbformat": 4,
  "nbformat_minor": 0,
  "metadata": {
    "colab": {
      "provenance": []
    },
    "kernelspec": {
      "name": "python3",
      "display_name": "Python 3"
    },
    "language_info": {
      "name": "python"
    }
  },
  "cells": [
    {
      "cell_type": "markdown",
      "source": [
        "###Introduction to GNN"
      ],
      "metadata": {
        "id": "CGB4NmlAVILr"
      }
    },
    {
      "cell_type": "code",
      "source": [
        "!pip install -q torch_geometric"
      ],
      "metadata": {
        "id": "zCV8jaDXFJkB",
        "colab": {
          "base_uri": "https://localhost:8080/"
        },
        "outputId": "93ff4bc4-1c16-4691-96aa-a9dcdb536c01"
      },
      "execution_count": null,
      "outputs": [
        {
          "output_type": "stream",
          "name": "stdout",
          "text": [
            "\u001b[2K     \u001b[90m━━━━━━━━━━━━━━━━━━━━━━━━━━━━━━━━━━━━━━━━\u001b[0m \u001b[32m63.1/63.1 kB\u001b[0m \u001b[31m1.3 MB/s\u001b[0m eta \u001b[36m0:00:00\u001b[0m\n",
            "\u001b[2K   \u001b[90m━━━━━━━━━━━━━━━━━━━━━━━━━━━━━━━━━━━━━━━━\u001b[0m \u001b[32m1.1/1.1 MB\u001b[0m \u001b[31m16.5 MB/s\u001b[0m eta \u001b[36m0:00:00\u001b[0m\n",
            "\u001b[?25h"
          ]
        }
      ]
    },
    {
      "cell_type": "code",
      "source": [
        "import torch\n",
        "import torch.nn as nn\n",
        "from torch.nn import Linear\n",
        "import torch_geometric\n",
        "import matplotlib.pyplot as plt\n",
        "import networkx as nx\n",
        "import numpy as np"
      ],
      "metadata": {
        "id": "m8ir-PkM4r1W"
      },
      "execution_count": null,
      "outputs": []
    },
    {
      "cell_type": "code",
      "source": [
        "def visualize_graph(G, color):\n",
        "  plt.figure(figsize=(4,4))\n",
        "  plt.xticks([])\n",
        "  plt.yticks([])\n",
        "  nx.draw_networkx(G, pos=nx.spring_layout(G, seed=42), with_labels=False, node_color=color, cmap='Set2')\n",
        "  #spring_layout: Uses a force-directed layout to place nodes naturally. (Places nodes nicely (like they’re pulled by springs))\n",
        "  #cmap='Set2': Uses soft, clear colors for the nodes.\n",
        "  plt.show()"
      ],
      "metadata": {
        "id": "qjkVvTt64run"
      },
      "execution_count": null,
      "outputs": []
    },
    {
      "cell_type": "code",
      "source": [
        "def visualize_embedding(h, color, epoch=None, loss=None): #h is the 2D node embeddings to be visualized. Shape: [num_nodes, embedding_dim]\n",
        "  plt.figure(figsize=(4,4))\n",
        "  plt.xticks([])\n",
        "  plt.yticks([])\n",
        "  h = h.detach().cpu().numpy()\n",
        "  plt.scatter(h[:, 0], h[:, 1], s=140, c=color, cmap='Set2')\n",
        "  if epoch is not None and loss is not None:\n",
        "    plt.xlabel(f'Epoch: {epoch}, loss: {loss.item():.4f}', forntsize=16)\n",
        "  plt.show()"
      ],
      "metadata": {
        "id": "7SFuK77F4rpA"
      },
      "execution_count": null,
      "outputs": []
    },
    {
      "cell_type": "code",
      "source": [
        "from torch_geometric.datasets import KarateClub\n",
        "\n",
        "dataset = KarateClub()\n",
        "print('dataset:', dataset)\n",
        "print('No.of graphs:', len(dataset))\n",
        "print('No.of features:', dataset.num_features)\n",
        "print('No.of classes:', dataset.num_classes)"
      ],
      "metadata": {
        "colab": {
          "base_uri": "https://localhost:8080/"
        },
        "id": "7gYyJz4j4rlf",
        "outputId": "993bc76b-ce2c-4ded-ece1-a560455cd4e0"
      },
      "execution_count": null,
      "outputs": [
        {
          "output_type": "stream",
          "name": "stdout",
          "text": [
            "dataset: KarateClub()\n",
            "No.of graphs: 1\n",
            "No.of features: 34\n",
            "No.of classes: 4\n"
          ]
        }
      ]
    },
    {
      "cell_type": "code",
      "source": [
        "\"\"\"only one graph in dataset\"\"\"\n",
        "data = dataset[0]\n",
        "print('data=', data)\n",
        "\n",
        "print('No.of nodes', data.num_nodes)\n",
        "print('No.of edges', data.num_edges)\n",
        "print('Average node degree', data.num_edges/data.num_nodes)\n",
        "print('No.of training nodes', data.train_mask.sum())\n",
        "print(f'Training node label rate: {int(data.train_mask.sum()) / data.num_nodes:.2f}')\n",
        "print(f'Has isolated nodes: {data.has_isolated_nodes()}')\n",
        "print(f'Has self-loops: {data.has_self_loops()}')\n",
        "print(f'Is undirected: {data.is_undirected()}')"
      ],
      "metadata": {
        "colab": {
          "base_uri": "https://localhost:8080/"
        },
        "id": "7JkmU3VG4riQ",
        "outputId": "816ff2e9-f3ca-4c6e-ec6b-7fab456b0722"
      },
      "execution_count": null,
      "outputs": [
        {
          "output_type": "stream",
          "name": "stdout",
          "text": [
            "data= Data(x=[34, 34], edge_index=[2, 156], y=[34], train_mask=[34])\n",
            "No.of nodes 34\n",
            "No.of edges 156\n",
            "Average node degree 4.588235294117647\n",
            "No.of training nodes tensor(4)\n",
            "Training node label rate: 0.12\n",
            "Has isolated nodes: False\n",
            "Has self-loops: False\n",
            "Is undirected: True\n"
          ]
        }
      ]
    },
    {
      "cell_type": "code",
      "source": [
        "from torch_geometric.utils import to_networkx\n",
        "\n",
        "G = to_networkx(data, to_undirected=True)\n",
        "visualize_graph(G, color=data.y)"
      ],
      "metadata": {
        "colab": {
          "base_uri": "https://localhost:8080/",
          "height": 345
        },
        "id": "jwNCIOJG4rfY",
        "outputId": "14e87105-8478-4938-bf92-7ad537594fbd"
      },
      "execution_count": null,
      "outputs": [
        {
          "output_type": "display_data",
          "data": {
            "text/plain": [
              "<Figure size 400x400 with 1 Axes>"
            ],
            "image/png": "[encoded data removed]"
          },
          "metadata": {}
        }
      ]
    },
    {
      "cell_type": "code",
      "source": [
        "#GNN\n",
        "\n",
        "\"\"\"The GCN model takes node features (e.g., 34 nodes each with 34 features in the Karate dataset) and a graph structure (edge_index) as input.\n",
        "It passes these features through three GCN layers (conv1, conv2, conv3), each performing message passing: nodes update their features\n",
        "by aggregating information from their neighbors. The dimensions change from 34 → 4 → 4 → 2 across these layers,\n",
        "with a tanh activation applied after each step to introduce non-linearity.\n",
        "After the final GCN layer, each node has a 2D embedding capturing its structural role in the graph.\n",
        "These embeddings are then passed through a final Linear layer to produce class scores for each node\"\"\"\n",
        "\n",
        "import torch\n",
        "from torch.nn import Linear\n",
        "import torch.nn as nn\n",
        "from torch_geometric.nn import GCNConv\n",
        "\n",
        "class GCN(nn.Module):\n",
        "  def __init__(self):\n",
        "    super().__init__()\n",
        "    torch.manual_seed(123)\n",
        "    self.conv1 = GCNConv(dataset.num_features, 4)\n",
        "    self.conv2 = GCNConv(4,4)\n",
        "    self.conv3 = GCNConv(4,2)\n",
        "    self.classifier = Linear(2, dataset.num_classes)\n",
        "\n",
        "  def forward(self, x, edge_index):\n",
        "    h = self.conv1(x, edge_index)\n",
        "    h = h.tanh()\n",
        "    h = self.conv2(h, edge_index)\n",
        "    h = h.tanh()\n",
        "    h = self.conv3(h, edge_index)\n",
        "    h = h.tanh()\n",
        "    out = self.classifier(h)\n",
        "\n",
        "    return out, h"
      ],
      "metadata": {
        "id": "FYtr8BpE4rdQ"
      },
      "execution_count": null,
      "outputs": []
    },
    {
      "cell_type": "code",
      "source": [
        "model = GCN()\n",
        "model"
      ],
      "metadata": {
        "colab": {
          "base_uri": "https://localhost:8080/"
        },
        "id": "WfzYUIz84rY9",
        "outputId": "368ae1dc-7bf6-45a6-f6b0-32e94f81c369"
      },
      "execution_count": null,
      "outputs": [
        {
          "output_type": "execute_result",
          "data": {
            "text/plain": [
              "GCN(\n",
              "  (conv1): GCNConv(34, 4)\n",
              "  (conv2): GCNConv(4, 4)\n",
              "  (conv3): GCNConv(4, 2)\n",
              "  (classifier): Linear(in_features=2, out_features=4, bias=True)\n",
              ")"
            ]
          },
          "metadata": {},
          "execution_count": 93
        }
      ]
    },
    {
      "cell_type": "code",
      "source": [
        "model = GCN()\n",
        "\n",
        "_, h = model(data.x, data.edge_index)\n",
        "print(f'Embedding shape: {list(h.shape)}')\n",
        "\n",
        "visualize_embedding(h, color=data.y)"
      ],
      "metadata": {
        "colab": {
          "base_uri": "https://localhost:8080/",
          "height": 362
        },
        "id": "dD2bR8ffXMFQ",
        "outputId": "98adfdd3-bcfb-49b7-8f58-7adbb70c4b27"
      },
      "execution_count": null,
      "outputs": [
        {
          "output_type": "stream",
          "name": "stdout",
          "text": [
            "Embedding shape: [34, 2]\n"
          ]
        },
        {
          "output_type": "display_data",
          "data": {
            "text/plain": [
              "<Figure size 400x400 with 1 Axes>"
            ],
            "image/png": "[encoded data removed]"
          },
          "metadata": {}
        }
      ]
    },
    {
      "cell_type": "code",
      "source": [
        "criterion = torch.nn.CrossEntropyLoss()\n",
        "optimizer = torch.optim.Adam(model.parameters(), lr = 0.001)"
      ],
      "metadata": {
        "id": "Zl0a1bQS4rTm"
      },
      "execution_count": null,
      "outputs": []
    },
    {
      "cell_type": "code",
      "source": [
        "def train(data):\n",
        "  model.train()\n",
        "  optimizer.zero_grad()  # Clear gradients.\n",
        "  out, h = model(data.x, data.edge_index)  # Forward pass.\n",
        "  loss = criterion(out[data.train_mask], data.y[data.train_mask].long())  # Compute loss.\n",
        "  loss.backward()  # Backpropagate.\n",
        "  optimizer.step()  # Update parameters.\n",
        "  return loss.item(), h  # Return scalar loss\n",
        "\n",
        "\n",
        "# Train loop\n",
        "for epoch in range(11):\n",
        "  loss, h = train(data)\n",
        "  print(f'Epoch: {epoch}, Loss: {loss:.4f}')"
      ],
      "metadata": {
        "colab": {
          "base_uri": "https://localhost:8080/"
        },
        "id": "-mhOwUiq4rQ3",
        "outputId": "47ac61f6-641c-4a41-ae40-81c1df9d6bc1"
      },
      "execution_count": null,
      "outputs": [
        {
          "output_type": "stream",
          "name": "stdout",
          "text": [
            "Epoch: 0, Loss: 1.4212\n",
            "Epoch: 1, Loss: 1.4199\n",
            "Epoch: 2, Loss: 1.4187\n",
            "Epoch: 3, Loss: 1.4175\n",
            "Epoch: 4, Loss: 1.4162\n",
            "Epoch: 5, Loss: 1.4150\n",
            "Epoch: 6, Loss: 1.4138\n",
            "Epoch: 7, Loss: 1.4126\n",
            "Epoch: 8, Loss: 1.4114\n",
            "Epoch: 9, Loss: 1.4102\n",
            "Epoch: 10, Loss: 1.4090\n"
          ]
        }
      ]
    },
    {
      "cell_type": "markdown",
      "source": [
        "###cora dataset"
      ],
      "metadata": {
        "id": "A-p_pBRxS6hG"
      }
    },
    {
      "cell_type": "code",
      "source": [
        "import torch\n",
        "from torch_geometric.datasets import Planetoid\n",
        "from torch_geometric.nn import GCNConv\n",
        "import torch.nn.functional as F"
      ],
      "metadata": {
        "id": "cGV6ANzM4lo2"
      },
      "execution_count": null,
      "outputs": []
    },
    {
      "cell_type": "code",
      "source": [
        "# Load Cora dataset\n",
        "dataset = Planetoid(root='/tmp/Cora', name='Cora')\n",
        "print(f\"Dataset: {dataset}:\")\n",
        "print(\"======================\")\n",
        "print(f\"Number of graphs: {len(dataset)}\")\n",
        "print(f\"Number of features: {dataset.num_features}\")\n",
        "print(f\"Number of classes: {dataset.num_classes}\")"
      ],
      "metadata": {
        "colab": {
          "base_uri": "https://localhost:8080/"
        },
        "id": "M_oBTjvK41h7",
        "outputId": "bf122923-f6fc-4549-d383-ed764ebe50e2"
      },
      "execution_count": null,
      "outputs": [
        {
          "output_type": "stream",
          "name": "stderr",
          "text": [
            "Downloading https://github.com/kimiyoung/planetoid/raw/master/data/ind.cora.x\n",
            "Downloading https://github.com/kimiyoung/planetoid/raw/master/data/ind.cora.tx\n",
            "Downloading https://github.com/kimiyoung/planetoid/raw/master/data/ind.cora.allx\n",
            "Downloading https://github.com/kimiyoung/planetoid/raw/master/data/ind.cora.y\n",
            "Downloading https://github.com/kimiyoung/planetoid/raw/master/data/ind.cora.ty\n",
            "Downloading https://github.com/kimiyoung/planetoid/raw/master/data/ind.cora.ally\n",
            "Downloading https://github.com/kimiyoung/planetoid/raw/master/data/ind.cora.graph\n",
            "Downloading https://github.com/kimiyoung/planetoid/raw/master/data/ind.cora.test.index\n",
            "Processing...\n"
          ]
        },
        {
          "output_type": "stream",
          "name": "stdout",
          "text": [
            "Dataset: Cora():\n",
            "======================\n",
            "Number of graphs: 1\n",
            "Number of features: 1433\n",
            "Number of classes: 7\n"
          ]
        },
        {
          "output_type": "stream",
          "name": "stderr",
          "text": [
            "Done!\n"
          ]
        }
      ]
    },
    {
      "cell_type": "code",
      "source": [
        "data = dataset[0]\n",
        "print(f\"Data:\")\n",
        "print(\"======\")\n",
        "print(f\"X shape: {data.x.shape}\")\n",
        "print(f\"Y shape: {data.y.shape}\")\n",
        "print(f\"Edge index shape: {data.edge_index.shape}\")"
      ],
      "metadata": {
        "colab": {
          "base_uri": "https://localhost:8080/"
        },
        "id": "1Xegzyx_5BlK",
        "outputId": "a82f52d8-6643-4a61-f65b-5d3691ee10a0"
      },
      "execution_count": null,
      "outputs": [
        {
          "output_type": "stream",
          "name": "stdout",
          "text": [
            "Data:\n",
            "======\n",
            "X shape: torch.Size([2708, 1433])\n",
            "Y shape: torch.Size([2708])\n",
            "Edge index shape: torch.Size([2, 10556])\n"
          ]
        }
      ]
    },
    {
      "cell_type": "code",
      "source": [
        "class GCN(torch.nn.Module):\n",
        "  def __init__(self):\n",
        "    super().__init__()\n",
        "    self.conv1 = GCNConv(dataset.num_node_features, 16)\n",
        "    self.conv2 = GCNConv(16, dataset.num_classes)\n",
        "\n",
        "  def forward(self, data):\n",
        "    x, edge_index = data.x, data.edge_index\n",
        "    x = self.conv1(x, edge_index)\n",
        "    x = F.relu(x)\n",
        "    x = F.dropout(x, training=self.training)\n",
        "    x = self.conv2(x, edge_index)\n",
        "\n",
        "    return F.log_softmax(x, dim=1)"
      ],
      "metadata": {
        "id": "QD4vLhpG4jbo"
      },
      "execution_count": null,
      "outputs": []
    },
    {
      "cell_type": "code",
      "source": [
        "device = torch.device('cuda' if torch.cuda.is_available() else 'cpu')\n",
        "model = GCN().to(device)\n",
        "data = data.to(device)"
      ],
      "metadata": {
        "id": "acKCkddq5YYi"
      },
      "execution_count": null,
      "outputs": []
    },
    {
      "cell_type": "code",
      "source": [
        "optimizer = torch.optim.Adam(model.parameters(), lr=0.01, weight_decay=5e-4)"
      ],
      "metadata": {
        "id": "gv4Ji5P15cp_"
      },
      "execution_count": null,
      "outputs": []
    },
    {
      "cell_type": "code",
      "source": [
        "model.train()\n",
        "for epoch in range(200):\n",
        "  optimizer.zero_grad()\n",
        "  out = model(data)\n",
        "  loss = F.nll_loss(out[data.train_mask], data.y[data.train_mask])\n",
        "  loss.backward()\n",
        "  optimizer.step()\n",
        "\n",
        "  if epoch % 50 == 0:\n",
        "    print(f'Epoch: {epoch}, Loss: {loss.item():.4f}')\n",
        "\n",
        "model.eval()\n",
        "_, pred = model(data).max(dim=1)\n",
        "correct = float(pred[data.test_mask].eq(data.y[data.test_mask]).sum().item())\n",
        "acc = correct / data.test_mask.sum().item()\n",
        "print(f'Accuracy: {acc:.4f}')"
      ],
      "metadata": {
        "colab": {
          "base_uri": "https://localhost:8080/"
        },
        "id": "j101i8gV5SAc",
        "outputId": "be934846-d024-4300-a10b-19bb99f5153e"
      },
      "execution_count": null,
      "outputs": [
        {
          "output_type": "stream",
          "name": "stdout",
          "text": [
            "Epoch: 0, Loss: 1.9373\n",
            "Epoch: 50, Loss: 0.0304\n",
            "Epoch: 100, Loss: 0.0357\n",
            "Epoch: 150, Loss: 0.0277\n",
            "Accuracy: 0.8150\n"
          ]
        }
      ]
    },
    {
      "cell_type": "markdown",
      "source": [
        "###Cora dataset 2"
      ],
      "metadata": {
        "id": "jfnha2W65o84"
      }
    },
    {
      "cell_type": "code",
      "source": [
        "from torch_geometric.datasets import Planetoid\n",
        "\n",
        "dataset = Planetoid(root='/tmp/Cora', name='Cora')\n",
        "dataset"
      ],
      "metadata": {
        "colab": {
          "base_uri": "https://localhost:8080/"
        },
        "id": "F5DKGAVxYoR8",
        "outputId": "57928e8d-0bcd-4ced-ebeb-0bb947ba8538"
      },
      "execution_count": null,
      "outputs": [
        {
          "output_type": "execute_result",
          "data": {
            "text/plain": [
              "Cora()"
            ]
          },
          "metadata": {},
          "execution_count": 115
        }
      ]
    },
    {
      "cell_type": "code",
      "source": [
        "import torch\n",
        "import torch.nn.functional as F\n",
        "from torch_geometric.nn import GCNConv\n",
        "\n",
        "class GCN(torch.nn.Module):\n",
        "  def __init__(self):\n",
        "    super().__init__()\n",
        "    self.conv1 = GCNConv(dataset.num_node_features, 16)\n",
        "    self.conv2 = GCNConv(16, dataset.num_classes)\n",
        "\n",
        "  def forward(self, data):\n",
        "    x, edge_index = data.x, data.edge_index\n",
        "    x = self.conv1(x, edge_index)\n",
        "    x = F.relu(x)\n",
        "    x = F.dropout(x, training=self.training)\n",
        "    x = self.conv2(x, edge_index)\n",
        "    return F.log_softmax(x, dim=1)"
      ],
      "metadata": {
        "id": "PVgf_GAFYoHQ"
      },
      "execution_count": null,
      "outputs": []
    },
    {
      "cell_type": "code",
      "source": [
        "device = torch.device('cuda' if torch.cuda.is_available() else 'cpu')\n",
        "model = GCN().to(device)\n",
        "data = dataset[0].to(device)\n",
        "optimizer = torch.optim.Adam(model.parameters(), lr=0.01, weight_decay=5e-4)\n",
        "\n",
        "model.train()\n",
        "for epoch in range(200):\n",
        "  optimizer.zero_grad()\n",
        "  out = model(data)\n",
        "  loss = F.nll_loss(out[data.train_mask], data.y[data.train_mask])\n",
        "  loss.backward()\n",
        "  optimizer.step()"
      ],
      "metadata": {
        "id": "1koQajIiaNo2"
      },
      "execution_count": null,
      "outputs": []
    },
    {
      "cell_type": "code",
      "source": [
        "model.eval()\n",
        "pred = model(data).argmax(dim=1)\n",
        "correct = (pred[data.test_mask] == data.y[data.test_mask]).sum()\n",
        "acc = int(correct) / int(data.test_mask.sum())\n",
        "print(f'Accuracy: {acc:.4f}')"
      ],
      "metadata": {
        "colab": {
          "base_uri": "https://localhost:8080/"
        },
        "id": "JWfx35dWaO67",
        "outputId": "b203e515-61e3-486d-ffd7-0ef1600bc725"
      },
      "execution_count": null,
      "outputs": [
        {
          "output_type": "stream",
          "name": "stdout",
          "text": [
            "Accuracy: 0.8090\n"
          ]
        }
      ]
    },
    {
      "cell_type": "markdown",
      "source": [
        "# Complete Guide to Graph Neural Networks (GNNs) - Mathematical Equations in LaTeX\n",
        "\n",
        "## 1. Graph Representation\n",
        "\n",
        "### Basic Graph Definition\n",
        "$G = (V, E)$\n",
        "\n",
        "### Adjacency Matrix\n",
        "$A_{ij} = \\begin{cases}\n",
        "1 & \\text{if } (i,j) \\in E \\\\\n",
        "0 & \\text{otherwise}\n",
        "\\end{cases}$\n",
        "\n",
        "### Node Features Matrix\n",
        "$X \\in \\mathbb{R}^{|V| \\times d}$\n",
        "\n",
        "### Degree Matrix\n",
        "$D_{ii} = \\sum_{j} A_{ij}$\n",
        "\n",
        "## 2. Graph Convolutional Networks (GCNs)\n",
        "\n",
        "### With Self-Loops\n",
        "$$\\tilde{A} = A + I$$\n",
        "\n",
        "### Normalized Adjacency Matrix\n",
        "$\\hat{A} = \\tilde{D}^{-\\frac{1}{2}} \\tilde{A} \\tilde{D}^{-\\frac{1}{2}}$\n",
        "\n",
        "### GCN Layer Forward Pass\n",
        "$H^{(l+1)} = \\sigma(\\hat{A} H^{(l)} W^{(l)})$\n",
        "\n",
        "### Full GCN Forward Pass\n",
        "$$Z = \\text{softmax}(\\hat{A} \\sigma(\\hat{A} X W^{(0)}) W^{(1)})$$\n",
        "\n",
        "## 3. Graph Attention Networks (GATs)\n",
        "\n",
        "### Attention Coefficients\n",
        "$$e_{ij} = a(W h_i, W h_j)$$\n",
        "\n",
        "### Normalized Attention\n",
        "$$\\alpha_{ij} = \\frac{\\exp(e_{ij})}{\\sum_{k \\in \\mathcal{N}_i} \\exp(e_{ik})}$$\n",
        "\n",
        "### Attention-based Aggregation\n",
        "$$h_i' = \\sigma\\left(\\sum_{j \\in \\mathcal{N}_i} \\alpha_{ij} W h_j\\right)$$\n",
        "\n",
        "### Multi-head Attention\n",
        "$$h_i' = \\Bigg|\\Bigg|_{k=1}^{K} \\sigma\\left(\\sum_{j \\in \\mathcal{N}_i} \\alpha_{ij}^k W^k h_j\\right)$$\n",
        "\n",
        "### Concatenation Version\n",
        "$$h_i' = \\sigma\\left(\\frac{1}{K} \\sum_{k=1}^{K} \\sum_{j \\in \\mathcal{N}_i} \\alpha_{ij}^k W^k h_j\\right)$$\n",
        "\n",
        "## 4. GraphSAGE\n",
        "\n",
        "### Neighborhood Aggregation\n",
        "$$h_{\\mathcal{N}(v)} = \\text{AGGREGATE}_k(\\{h_{u}^{k-1}, \\forall u \\in \\mathcal{N}(v)\\})$$\n",
        "\n",
        "### Node Representation Update\n",
        "$$h_v^k = \\sigma(W_k \\cdot \\text{CONCAT}(h_v^{k-1}, h_{\\mathcal{N}(v)}))$$\n",
        "\n",
        "### Mean Aggregator\n",
        "$$h_{\\mathcal{N}(v)} = \\frac{1}{|\\mathcal{N}(v)|} \\sum_{u \\in \\mathcal{N}(v)} h_u^{k-1}$$\n",
        "\n",
        "### Pooling Aggregator\n",
        "$$h_{\\mathcal{N}(v)} = \\max_{u \\in \\mathcal{N}(v)} (\\sigma(W_{\\text{pool}} h_u + b))$$\n",
        "\n",
        "## 5. Message Passing Neural Networks (MPNNs)\n",
        "\n",
        "### Message Function\n",
        "$$m_{v \\rightarrow u}^{(t)} = M_t(h_v^{(t-1)}, h_u^{(t-1)}, e_{vu})$$\n",
        "\n",
        "### Message Aggregation\n",
        "$$m_v^{(t)} = \\sum_{u \\in \\mathcal{N}(v)} m_{u \\rightarrow v}^{(t)}$$\n",
        "\n",
        "### Node Update\n",
        "$$h_v^{(t)} = U_t(h_v^{(t-1)}, m_v^{(t)})$$\n",
        "\n",
        "### Readout Function\n",
        "$$\\hat{y} = R(\\{h_v^{(T)} | v \\in G\\})$$\n",
        "\n",
        "## 6. Graph Isomorphism Networks (GINs)\n",
        "\n",
        "### GIN Update Rule\n",
        "$$h_v^{(l+1)} = \\text{MLP}^{(l)}\\left((1 + \\epsilon^{(l)}) \\cdot h_v^{(l)} + \\sum_{u \\in \\mathcal{N}(v)} h_u^{(l)}\\right)$$\n",
        "\n",
        "## 7. Graph Laplacian and Spectral Methods\n",
        "\n",
        "### Unnormalized Graph Laplacian\n",
        "$$L = D - A$$\n",
        "\n",
        "### Normalized Graph Laplacian\n",
        "$$L_{\\text{sym}} = I - D^{-\\frac{1}{2}} A D^{-\\frac{1}{2}}$$\n",
        "\n",
        "### Random Walk Normalized Laplacian\n",
        "$$L_{\\text{rw}} = I - D^{-1} A$$\n",
        "\n",
        "### Spectral Graph Convolution\n",
        "$$g \\star x = U g(\\Lambda) U^T x$$\n",
        "\n",
        "Where:\n",
        "- $U$: Matrix of eigenvectors of $L$\n",
        "- $\\Lambda$: Diagonal matrix of eigenvalues\n",
        "- $g_\\theta(\\Lambda)$: Filter in spectral domain\n",
        "\n",
        "## 8. Advanced GNN Operations\n",
        "\n",
        "### Jump Knowledge Networks\n",
        "$$h_v^{(l)} = \\text{CONCAT}(h_v^{(0)}, h_v^{(1)}, \\ldots, h_v^{(l)})$$\n",
        "\n",
        "### Deep Graph Infomax\n",
        "$$\\mathcal{L}_{\\text{DGI}} = \\mathbb{E}_{v \\in \\mathcal{V}} [\\log \\sigma(h_v \\cdot h^{\\text{global}}) + \\log \\sigma(-\\tilde{h}_v \\cdot h^{\\text{global}})]$$\n",
        "\n",
        "### Graph Autoencoder\n",
        "$$\\mathcal{L} = \\mathcal{L}_{\\text{recon}} + \\mathcal{L}_{\\text{prior}}$$\n",
        "\n",
        "Where:\n",
        "$$\\mathcal{L}_{\\text{recon}} = ||A - \\sigma(Z Z^T)||_F^2$$\n",
        "\n",
        "## 9. Pooling Operations\n",
        "\n",
        "### Global Mean Pooling\n",
        "$$h_G = \\frac{1}{|V|} \\sum_{v \\in V} h_v$$\n",
        "\n",
        "### Global Max Pooling\n",
        "$$h_G = \\max_{v \\in V} h_v$$\n",
        "\n",
        "### Sort Pooling\n",
        "$$h_G = \\text{SORT}(\\{h_v | v \\in V\\})$$\n",
        "\n",
        "### DiffPool\n",
        "$$S^{(l)} = \\text{softmax}(X^{(l)} W^{(l)})$$\n",
        "$$X^{(l+1)} = (S^{(l)})^T X^{(l)}$$\n",
        "$$A^{(l+1)} = (S^{(l)})^T A^{(l)} S^{(l)}$$\n",
        "\n",
        "## 10. Loss Functions\n",
        "\n",
        "### Cross-Entropy Loss (Node Classification)\n",
        "$$\\mathcal{L} = -\\sum_{v \\in V_L} \\sum_{c=1}^C y_v^c \\log(\\hat{y}_v^c)$$\n",
        "\n",
        "### Cross-Entropy Loss (Graph Classification)\n",
        "$$\\mathcal{L} = -\\sum_{G \\in \\mathcal{G}_L} \\sum_{c=1}^C y_G^c \\log(\\hat{y}_G^c)$$\n",
        "\n",
        "### Link Prediction Loss\n",
        "$$\\mathcal{L} = -\\sum_{(u,v) \\in \\mathcal{E}^+} \\log \\sigma(f(h_u, h_v)) - \\sum_{(u,v) \\in \\mathcal{E}^-} \\log(1 - \\sigma(f(h_u, h_v)))$$\n",
        "\n",
        "### Contrastive Loss\n",
        "$$\\mathcal{L} = \\sum_{i,j} y_{ij} ||h_i - h_j||^2 + (1 - y_{ij}) \\max(0, m - ||h_i - h_j||)^2$$\n",
        "\n",
        "## 11. Regularization Techniques\n",
        "\n",
        "### Dropout on Graphs\n",
        "$$h_v^{(l)} = \\frac{1}{1-p} \\cdot \\text{mask} \\cdot h_v^{(l)}$$\n",
        "\n",
        "### Graph Dropout\n",
        "Randomly removing edges during training:\n",
        "$$A'_{ij} = \\begin{cases}\n",
        "0 & \\text{with probability } p \\\\\n",
        "A_{ij} & \\text{otherwise}\n",
        "\\end{cases}$$\n",
        "\n",
        "## 12. Theoretical Bounds\n",
        "\n",
        "### Over-smoothing Bound\n",
        "$$\\lim_{L \\to \\infty} ||h_u^{(L)} - h_v^{(L)}|| \\to 0$$\n",
        "\n",
        "### Expressive Power (1-WL Test)\n",
        "Two graphs $G_1$ and $G_2$ are indistinguishable by 1-WL if:\n",
        "$$\\text{HASH}(G_1) = \\text{HASH}(G_2)$$\n",
        "\n",
        "### Universal Approximation\n",
        "For any continuous function $f$ on graphs, there exists a GNN $\\phi$ such that:\n",
        "$$\\sup_{G \\in \\mathcal{G}} |f(G) - \\phi(G)| < \\epsilon$$\n",
        "\n",
        "## 13. Optimization\n",
        "\n",
        "### Gradient Flow in GCN\n",
        "$$\\frac{\\partial \\mathcal{L}}{\\partial W^{(l)}} = \\frac{\\partial \\mathcal{L}}{\\partial H^{(l+1)}} \\cdot \\frac{\\partial H^{(l+1)}}{\\partial W^{(l)}}$$\n",
        "\n",
        "### Vanishing Gradient Analysis\n",
        "$$\\left\\|\\frac{\\partial H^{(l)}}{\\partial H^{(0)}}\\right\\| \\leq \\prod_{i=0}^{l-1} \\|W^{(i)}\\| \\cdot \\|\\hat{A}\\|$$\n",
        "\n",
        "## 14. Attention Mechanisms\n",
        "\n",
        "### Scaled Dot-Product Attention\n",
        "$$\\text{Attention}(Q, K, V) = \\text{softmax}\\left(\\frac{QK^T}{\\sqrt{d_k}}\\right)V$$\n",
        "\n",
        "### Multi-head Attention\n",
        "$$\\text{MultiHead}(Q, K, V) = \\text{Concat}(\\text{head}_1, \\ldots, \\text{head}_h)W^O$$\n",
        "\n",
        "Where:\n",
        "$$\\text{head}_i = \\text{Attention}(QW_i^Q, KW_i^K, VW_i^V)$$\n",
        "\n",
        "## 15. Temporal GNNs\n",
        "\n",
        "### Recurrent GNN Update\n",
        "$$h_v^{(t)} = \\text{GRU}(h_v^{(t-1)}, \\text{AGGREGATE}(\\{h_u^{(t-1)} | u \\in \\mathcal{N}(v)\\}))$$\n",
        "\n",
        "### Continuous-time GNN\n",
        "$$\\frac{d h_v(t)}{dt} = f(h_v(t), \\sum_{u \\in \\mathcal{N}(v)} a_{vu}(t) h_u(t))$$\n",
        "\n"
      ],
      "metadata": {
        "id": "rCzPU80s7nLQ"
      }
    }
  ]
}