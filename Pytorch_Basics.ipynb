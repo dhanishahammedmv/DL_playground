{
  "cells": [
    {
      "cell_type": "code",
      "execution_count": 1,
      "id": "9729b165",
      "metadata": {
        "colab": {
          "base_uri": "https://localhost:8080/",
          "height": 35
        },
        "execution": {
          "iopub.execute_input": "2025-08-05T14:13:39.717319Z",
          "iopub.status.busy": "2025-08-05T14:13:39.716520Z",
          "iopub.status.idle": "2025-08-05T14:13:44.576625Z",
          "shell.execute_reply": "2025-08-05T14:13:44.575722Z"
        },
        "id": "9729b165",
        "outputId": "2f2fd84f-f464-463f-b113-b54f86941492",
        "papermill": {
          "duration": 4.884371,
          "end_time": "2025-08-05T14:13:44.578341",
          "exception": false,
          "start_time": "2025-08-05T14:13:39.693970",
          "status": "completed"
        },
        "tags": []
      },
      "outputs": [
        {
          "output_type": "execute_result",
          "data": {
            "text/plain": [
              "'2.8.0+cu126'"
            ],
            "application/vnd.google.colaboratory.intrinsic+json": {
              "type": "string"
            }
          },
          "metadata": {},
          "execution_count": 1
        }
      ],
      "source": [
        "import torch\n",
        "torch.__version__"
      ]
    },
    {
      "cell_type": "code",
      "execution_count": 2,
      "id": "c9df419c",
      "metadata": {
        "colab": {
          "base_uri": "https://localhost:8080/"
        },
        "execution": {
          "iopub.execute_input": "2025-08-05T14:13:44.821629Z",
          "iopub.status.busy": "2025-08-05T14:13:44.821221Z",
          "iopub.status.idle": "2025-08-05T14:13:44.861779Z",
          "shell.execute_reply": "2025-08-05T14:13:44.860949Z"
        },
        "id": "c9df419c",
        "outputId": "dfd99483-e140-4ca7-cb19-b86dfa5be1bf",
        "papermill": {
          "duration": 0.065411,
          "end_time": "2025-08-05T14:13:44.863528",
          "exception": false,
          "start_time": "2025-08-05T14:13:44.798117",
          "status": "completed"
        },
        "tags": []
      },
      "outputs": [
        {
          "output_type": "execute_result",
          "data": {
            "text/plain": [
              "tensor(7)"
            ]
          },
          "metadata": {},
          "execution_count": 2
        }
      ],
      "source": [
        "# Scalar\n",
        "scalar = torch.tensor(7)\n",
        "scalar"
      ]
    },
    {
      "cell_type": "code",
      "execution_count": 3,
      "id": "719bd240",
      "metadata": {
        "colab": {
          "base_uri": "https://localhost:8080/"
        },
        "execution": {
          "iopub.execute_input": "2025-08-05T14:13:44.953800Z",
          "iopub.status.busy": "2025-08-05T14:13:44.953016Z",
          "iopub.status.idle": "2025-08-05T14:13:44.958369Z",
          "shell.execute_reply": "2025-08-05T14:13:44.957538Z"
        },
        "id": "719bd240",
        "outputId": "52937b28-3bdd-42ec-ceb3-b3ed2c2b5c32",
        "papermill": {
          "duration": 0.029435,
          "end_time": "2025-08-05T14:13:44.959702",
          "exception": false,
          "start_time": "2025-08-05T14:13:44.930267",
          "status": "completed"
        },
        "tags": []
      },
      "outputs": [
        {
          "output_type": "execute_result",
          "data": {
            "text/plain": [
              "0"
            ]
          },
          "metadata": {},
          "execution_count": 3
        }
      ],
      "source": [
        "scalar.ndim"
      ]
    },
    {
      "cell_type": "code",
      "execution_count": 4,
      "id": "7debe708",
      "metadata": {
        "colab": {
          "base_uri": "https://localhost:8080/"
        },
        "execution": {
          "iopub.execute_input": "2025-08-05T14:13:45.050363Z",
          "iopub.status.busy": "2025-08-05T14:13:45.050046Z",
          "iopub.status.idle": "2025-08-05T14:13:45.055401Z",
          "shell.execute_reply": "2025-08-05T14:13:45.054518Z"
        },
        "id": "7debe708",
        "outputId": "f911b863-946b-4ddd-c006-5f10257dbd5b",
        "papermill": {
          "duration": 0.030067,
          "end_time": "2025-08-05T14:13:45.056764",
          "exception": false,
          "start_time": "2025-08-05T14:13:45.026697",
          "status": "completed"
        },
        "tags": []
      },
      "outputs": [
        {
          "output_type": "execute_result",
          "data": {
            "text/plain": [
              "7"
            ]
          },
          "metadata": {},
          "execution_count": 4
        }
      ],
      "source": [
        "# Get the Python number within a tensor (only works with one-element tensors)\n",
        "scalar.item()"
      ]
    },
    {
      "cell_type": "code",
      "execution_count": 5,
      "id": "3b0c97a9",
      "metadata": {
        "colab": {
          "base_uri": "https://localhost:8080/"
        },
        "execution": {
          "iopub.execute_input": "2025-08-05T14:13:45.146537Z",
          "iopub.status.busy": "2025-08-05T14:13:45.146241Z",
          "iopub.status.idle": "2025-08-05T14:13:45.152630Z",
          "shell.execute_reply": "2025-08-05T14:13:45.151780Z"
        },
        "id": "3b0c97a9",
        "outputId": "1468a01a-7b4d-4078-ed8a-871b4219cc0e",
        "papermill": {
          "duration": 0.031286,
          "end_time": "2025-08-05T14:13:45.154147",
          "exception": false,
          "start_time": "2025-08-05T14:13:45.122861",
          "status": "completed"
        },
        "tags": []
      },
      "outputs": [
        {
          "output_type": "execute_result",
          "data": {
            "text/plain": [
              "tensor([7, 7])"
            ]
          },
          "metadata": {},
          "execution_count": 5
        }
      ],
      "source": [
        "# Vector\n",
        "vector = torch.tensor([7, 7])\n",
        "vector"
      ]
    },
    {
      "cell_type": "code",
      "execution_count": 6,
      "id": "463707fa",
      "metadata": {
        "colab": {
          "base_uri": "https://localhost:8080/"
        },
        "execution": {
          "iopub.execute_input": "2025-08-05T14:13:45.245092Z",
          "iopub.status.busy": "2025-08-05T14:13:45.244704Z",
          "iopub.status.idle": "2025-08-05T14:13:45.250405Z",
          "shell.execute_reply": "2025-08-05T14:13:45.249501Z"
        },
        "id": "463707fa",
        "outputId": "f719dbde-075c-4979-96ea-7d2a2b59ff68",
        "papermill": {
          "duration": 0.030529,
          "end_time": "2025-08-05T14:13:45.251805",
          "exception": false,
          "start_time": "2025-08-05T14:13:45.221276",
          "status": "completed"
        },
        "tags": []
      },
      "outputs": [
        {
          "output_type": "execute_result",
          "data": {
            "text/plain": [
              "1"
            ]
          },
          "metadata": {},
          "execution_count": 6
        }
      ],
      "source": [
        "# Check the number of dimensions of vector\n",
        "vector.ndim"
      ]
    },
    {
      "cell_type": "code",
      "execution_count": 7,
      "id": "db6a19cf",
      "metadata": {
        "colab": {
          "base_uri": "https://localhost:8080/"
        },
        "execution": {
          "iopub.execute_input": "2025-08-05T14:13:45.342371Z",
          "iopub.status.busy": "2025-08-05T14:13:45.341689Z",
          "iopub.status.idle": "2025-08-05T14:13:45.346813Z",
          "shell.execute_reply": "2025-08-05T14:13:45.346142Z"
        },
        "id": "db6a19cf",
        "outputId": "31ac2ff2-b3cc-4480-c51b-49253922ca5b",
        "papermill": {
          "duration": 0.029952,
          "end_time": "2025-08-05T14:13:45.348222",
          "exception": false,
          "start_time": "2025-08-05T14:13:45.318270",
          "status": "completed"
        },
        "tags": []
      },
      "outputs": [
        {
          "output_type": "execute_result",
          "data": {
            "text/plain": [
              "torch.Size([2])"
            ]
          },
          "metadata": {},
          "execution_count": 7
        }
      ],
      "source": [
        "# Check shape of vector\n",
        "vector.shape"
      ]
    },
    {
      "cell_type": "code",
      "execution_count": 8,
      "id": "bd464e8f",
      "metadata": {
        "colab": {
          "base_uri": "https://localhost:8080/"
        },
        "execution": {
          "iopub.execute_input": "2025-08-05T14:13:45.441801Z",
          "iopub.status.busy": "2025-08-05T14:13:45.441524Z",
          "iopub.status.idle": "2025-08-05T14:13:45.450475Z",
          "shell.execute_reply": "2025-08-05T14:13:45.449627Z"
        },
        "id": "bd464e8f",
        "outputId": "29098dc7-1b32-439a-ae69-a75abf6623a3",
        "papermill": {
          "duration": 0.035036,
          "end_time": "2025-08-05T14:13:45.451815",
          "exception": false,
          "start_time": "2025-08-05T14:13:45.416779",
          "status": "completed"
        },
        "tags": []
      },
      "outputs": [
        {
          "output_type": "execute_result",
          "data": {
            "text/plain": [
              "tensor([[ 7,  8],\n",
              "        [ 9, 10]])"
            ]
          },
          "metadata": {},
          "execution_count": 8
        }
      ],
      "source": [
        "# Matrix\n",
        "MATRIX = torch.tensor([[7, 8],\n",
        "                       [9, 10]])\n",
        "MATRIX"
      ]
    },
    {
      "cell_type": "code",
      "execution_count": 9,
      "id": "0eaa434e",
      "metadata": {
        "colab": {
          "base_uri": "https://localhost:8080/"
        },
        "execution": {
          "iopub.execute_input": "2025-08-05T14:13:45.546737Z",
          "iopub.status.busy": "2025-08-05T14:13:45.546180Z",
          "iopub.status.idle": "2025-08-05T14:13:45.551198Z",
          "shell.execute_reply": "2025-08-05T14:13:45.550396Z"
        },
        "id": "0eaa434e",
        "outputId": "0595ca34-4dea-40d2-af21-06ff12604e30",
        "papermill": {
          "duration": 0.030353,
          "end_time": "2025-08-05T14:13:45.552678",
          "exception": false,
          "start_time": "2025-08-05T14:13:45.522325",
          "status": "completed"
        },
        "tags": []
      },
      "outputs": [
        {
          "output_type": "execute_result",
          "data": {
            "text/plain": [
              "2"
            ]
          },
          "metadata": {},
          "execution_count": 9
        }
      ],
      "source": [
        "# Check number of dimensions\n",
        "MATRIX.ndim"
      ]
    },
    {
      "cell_type": "code",
      "execution_count": 10,
      "id": "e3977908",
      "metadata": {
        "colab": {
          "base_uri": "https://localhost:8080/"
        },
        "execution": {
          "iopub.execute_input": "2025-08-05T14:13:45.645052Z",
          "iopub.status.busy": "2025-08-05T14:13:45.644724Z",
          "iopub.status.idle": "2025-08-05T14:13:45.650154Z",
          "shell.execute_reply": "2025-08-05T14:13:45.649321Z"
        },
        "id": "e3977908",
        "outputId": "10e0cea5-a64d-49bd-f573-6c86e94c0180",
        "papermill": {
          "duration": 0.030482,
          "end_time": "2025-08-05T14:13:45.651578",
          "exception": false,
          "start_time": "2025-08-05T14:13:45.621096",
          "status": "completed"
        },
        "tags": []
      },
      "outputs": [
        {
          "output_type": "execute_result",
          "data": {
            "text/plain": [
              "torch.Size([2, 2])"
            ]
          },
          "metadata": {},
          "execution_count": 10
        }
      ],
      "source": [
        "MATRIX.shape"
      ]
    },
    {
      "cell_type": "code",
      "execution_count": 11,
      "id": "aab184fc",
      "metadata": {
        "colab": {
          "base_uri": "https://localhost:8080/"
        },
        "execution": {
          "iopub.execute_input": "2025-08-05T14:13:45.743340Z",
          "iopub.status.busy": "2025-08-05T14:13:45.743029Z",
          "iopub.status.idle": "2025-08-05T14:13:45.749657Z",
          "shell.execute_reply": "2025-08-05T14:13:45.748825Z"
        },
        "id": "aab184fc",
        "outputId": "9ba715a1-06e4-42e5-bd4d-9264dac220d7",
        "papermill": {
          "duration": 0.031841,
          "end_time": "2025-08-05T14:13:45.751166",
          "exception": false,
          "start_time": "2025-08-05T14:13:45.719325",
          "status": "completed"
        },
        "tags": []
      },
      "outputs": [
        {
          "output_type": "execute_result",
          "data": {
            "text/plain": [
              "tensor([[[1, 2, 3],\n",
              "         [3, 6, 9],\n",
              "         [2, 4, 5]]])"
            ]
          },
          "metadata": {},
          "execution_count": 11
        }
      ],
      "source": [
        "# Tensor\n",
        "TENSOR = torch.tensor([[[1, 2, 3],\n",
        "                        [3, 6, 9],\n",
        "                        [2, 4, 5]]])\n",
        "TENSOR"
      ]
    },
    {
      "cell_type": "code",
      "execution_count": 12,
      "id": "d9cd364a",
      "metadata": {
        "colab": {
          "base_uri": "https://localhost:8080/"
        },
        "execution": {
          "iopub.execute_input": "2025-08-05T14:13:45.844994Z",
          "iopub.status.busy": "2025-08-05T14:13:45.844651Z",
          "iopub.status.idle": "2025-08-05T14:13:45.849765Z",
          "shell.execute_reply": "2025-08-05T14:13:45.848948Z"
        },
        "id": "d9cd364a",
        "outputId": "715f788f-d638-4137-cb04-b49d0c751ed3",
        "papermill": {
          "duration": 0.030611,
          "end_time": "2025-08-05T14:13:45.851344",
          "exception": false,
          "start_time": "2025-08-05T14:13:45.820733",
          "status": "completed"
        },
        "tags": []
      },
      "outputs": [
        {
          "output_type": "execute_result",
          "data": {
            "text/plain": [
              "3"
            ]
          },
          "metadata": {},
          "execution_count": 12
        }
      ],
      "source": [
        "# Check number of dimensions for TENSOR\n",
        "TENSOR.ndim"
      ]
    },
    {
      "cell_type": "code",
      "execution_count": 13,
      "id": "456737f7",
      "metadata": {
        "colab": {
          "base_uri": "https://localhost:8080/"
        },
        "execution": {
          "iopub.execute_input": "2025-08-05T14:13:45.946514Z",
          "iopub.status.busy": "2025-08-05T14:13:45.946201Z",
          "iopub.status.idle": "2025-08-05T14:13:45.951802Z",
          "shell.execute_reply": "2025-08-05T14:13:45.950976Z"
        },
        "id": "456737f7",
        "outputId": "185d15b0-8806-46c8-cd1b-f817c07c6b64",
        "papermill": {
          "duration": 0.031008,
          "end_time": "2025-08-05T14:13:45.953288",
          "exception": false,
          "start_time": "2025-08-05T14:13:45.922280",
          "status": "completed"
        },
        "tags": []
      },
      "outputs": [
        {
          "output_type": "execute_result",
          "data": {
            "text/plain": [
              "torch.Size([1, 3, 3])"
            ]
          },
          "metadata": {},
          "execution_count": 13
        }
      ],
      "source": [
        "# Check shape of TENSOR\n",
        "TENSOR.shape"
      ]
    },
    {
      "cell_type": "code",
      "execution_count": 14,
      "id": "82129049",
      "metadata": {
        "colab": {
          "base_uri": "https://localhost:8080/"
        },
        "execution": {
          "iopub.execute_input": "2025-08-05T14:13:46.094266Z",
          "iopub.status.busy": "2025-08-05T14:13:46.093944Z",
          "iopub.status.idle": "2025-08-05T14:13:46.152029Z",
          "shell.execute_reply": "2025-08-05T14:13:46.150954Z"
        },
        "id": "82129049",
        "outputId": "b9b09743-07a4-4799-fc01-119bfdbccd03",
        "papermill": {
          "duration": 0.083952,
          "end_time": "2025-08-05T14:13:46.153587",
          "exception": false,
          "start_time": "2025-08-05T14:13:46.069635",
          "status": "completed"
        },
        "tags": []
      },
      "outputs": [
        {
          "output_type": "execute_result",
          "data": {
            "text/plain": [
              "(tensor([[0.4748, 0.8376, 0.6032, 0.0182],\n",
              "         [0.1730, 0.7903, 0.1259, 0.3926],\n",
              "         [0.0409, 0.6796, 0.6942, 0.7166]]),\n",
              " torch.float32)"
            ]
          },
          "metadata": {},
          "execution_count": 14
        }
      ],
      "source": [
        "# Create a random tensor of size (3, 4)\n",
        "random_tensor = torch.rand(size=(3, 4))  # Uniform distribution between 0 and 1\n",
        "random_tensor, random_tensor.dtype"
      ]
    },
    {
      "cell_type": "code",
      "execution_count": 15,
      "id": "2ce3bc14",
      "metadata": {
        "colab": {
          "base_uri": "https://localhost:8080/"
        },
        "execution": {
          "iopub.execute_input": "2025-08-05T14:13:46.248845Z",
          "iopub.status.busy": "2025-08-05T14:13:46.248533Z",
          "iopub.status.idle": "2025-08-05T14:13:46.255629Z",
          "shell.execute_reply": "2025-08-05T14:13:46.254742Z"
        },
        "id": "2ce3bc14",
        "outputId": "77be9d8f-3162-4061-93a2-ecbfd22f3d3f",
        "papermill": {
          "duration": 0.033196,
          "end_time": "2025-08-05T14:13:46.257181",
          "exception": false,
          "start_time": "2025-08-05T14:13:46.223985",
          "status": "completed"
        },
        "tags": []
      },
      "outputs": [
        {
          "output_type": "execute_result",
          "data": {
            "text/plain": [
              "(torch.Size([224, 224, 3]), 3)"
            ]
          },
          "metadata": {},
          "execution_count": 15
        }
      ],
      "source": [
        "# Create a random tensor of size (224, 224, 3)\n",
        "random_image_size_tensor = torch.rand(size=(224, 224, 3))\n",
        "random_image_size_tensor.shape, random_image_size_tensor.ndim"
      ]
    },
    {
      "cell_type": "code",
      "execution_count": 16,
      "id": "5c1910b0",
      "metadata": {
        "colab": {
          "base_uri": "https://localhost:8080/"
        },
        "execution": {
          "iopub.execute_input": "2025-08-05T14:13:46.306371Z",
          "iopub.status.busy": "2025-08-05T14:13:46.305434Z",
          "iopub.status.idle": "2025-08-05T14:13:46.317574Z",
          "shell.execute_reply": "2025-08-05T14:13:46.316733Z"
        },
        "id": "5c1910b0",
        "outputId": "97f7cd07-6a75-403e-ce64-7ac432009aba",
        "papermill": {
          "duration": 0.038062,
          "end_time": "2025-08-05T14:13:46.319165",
          "exception": false,
          "start_time": "2025-08-05T14:13:46.281103",
          "status": "completed"
        },
        "tags": []
      },
      "outputs": [
        {
          "output_type": "execute_result",
          "data": {
            "text/plain": [
              "tensor([[0.8122, 0.5197, 0.4627],\n",
              "        [0.4312, 0.6630, 0.8675],\n",
              "        [0.1475, 0.4083, 0.5371],\n",
              "        [0.9587, 0.0862, 0.5639],\n",
              "        [0.6227, 0.6907, 0.7410],\n",
              "        [0.0630, 0.4320, 0.2353],\n",
              "        [0.8194, 0.3030, 0.6754],\n",
              "        [0.2441, 0.6843, 0.8524],\n",
              "        [0.0599, 0.7607, 0.9567],\n",
              "        [0.1779, 0.6439, 0.2766],\n",
              "        [0.1492, 0.7140, 0.3996],\n",
              "        [0.2072, 0.5908, 0.2576],\n",
              "        [0.5542, 0.2314, 0.3942],\n",
              "        [0.2179, 0.2145, 0.6896],\n",
              "        [0.5735, 0.6115, 0.9520],\n",
              "        [0.3915, 0.7139, 0.9705],\n",
              "        [0.9347, 0.5424, 0.2591],\n",
              "        [0.6839, 0.2516, 0.0220],\n",
              "        [0.3193, 0.1762, 0.3061],\n",
              "        [0.3774, 0.4552, 0.4497],\n",
              "        [0.5581, 0.0265, 0.4149],\n",
              "        [0.4606, 0.6112, 0.7520],\n",
              "        [0.2125, 0.0348, 0.6647],\n",
              "        [0.1060, 0.0580, 0.6318],\n",
              "        [0.6575, 0.2034, 0.6626],\n",
              "        [0.9344, 0.9655, 0.7324],\n",
              "        [0.6604, 0.3079, 0.2206],\n",
              "        [0.5463, 0.2137, 0.9191],\n",
              "        [0.9439, 0.1570, 0.5865],\n",
              "        [0.0605, 0.9374, 0.3370],\n",
              "        [0.6421, 0.5168, 0.5895],\n",
              "        [0.0310, 0.0569, 0.1360],\n",
              "        [0.3839, 0.6741, 0.0302],\n",
              "        [0.8192, 0.2321, 0.7416],\n",
              "        [0.2890, 0.9116, 0.7980],\n",
              "        [0.9289, 0.6140, 0.5743],\n",
              "        [0.8994, 0.9198, 0.1095],\n",
              "        [0.6423, 0.9435, 0.7446],\n",
              "        [0.5888, 0.5143, 0.6665],\n",
              "        [0.4343, 0.4434, 0.3593],\n",
              "        [0.0694, 0.9092, 0.1231],\n",
              "        [0.9182, 0.2827, 0.2978],\n",
              "        [0.9032, 0.7819, 0.1645],\n",
              "        [0.8846, 0.4659, 0.3767],\n",
              "        [0.3362, 0.8355, 0.4204],\n",
              "        [0.9030, 0.9584, 0.3488],\n",
              "        [0.2943, 0.1503, 0.0136],\n",
              "        [0.3270, 0.6211, 0.6223],\n",
              "        [0.9291, 0.2158, 0.4589],\n",
              "        [0.7064, 0.3926, 0.8114],\n",
              "        [0.3706, 0.3825, 0.9789],\n",
              "        [0.6613, 0.6560, 0.1680],\n",
              "        [0.7308, 0.3366, 0.6113],\n",
              "        [0.5493, 0.8833, 0.4906],\n",
              "        [0.4904, 0.8272, 0.6746],\n",
              "        [0.1395, 0.8548, 0.2152],\n",
              "        [0.4027, 0.6777, 0.5988],\n",
              "        [0.9173, 0.6938, 0.6461],\n",
              "        [0.1732, 0.4085, 0.1689],\n",
              "        [0.6948, 0.9697, 0.5232],\n",
              "        [0.2965, 0.4237, 0.5935],\n",
              "        [0.1912, 0.2728, 0.4406],\n",
              "        [0.4239, 0.1343, 0.3199],\n",
              "        [0.6304, 0.7332, 0.4006],\n",
              "        [0.7157, 0.3654, 0.9006],\n",
              "        [0.8004, 0.3381, 0.8339],\n",
              "        [0.0834, 0.2977, 0.0990],\n",
              "        [0.8198, 0.9406, 0.6005],\n",
              "        [0.5256, 0.7035, 0.2623],\n",
              "        [0.6069, 0.2928, 0.1820],\n",
              "        [0.3021, 0.5502, 0.8308],\n",
              "        [0.6666, 0.0319, 0.0722],\n",
              "        [0.1282, 0.8005, 0.8325],\n",
              "        [0.7609, 0.0255, 0.1720],\n",
              "        [0.2236, 0.7573, 0.5666],\n",
              "        [0.8901, 0.2284, 0.7286],\n",
              "        [0.2556, 0.8531, 0.8661],\n",
              "        [0.1300, 0.7589, 0.0227],\n",
              "        [0.9472, 0.5782, 0.3878],\n",
              "        [0.3268, 0.5524, 0.0863],\n",
              "        [0.6784, 0.0221, 0.1003],\n",
              "        [0.6180, 0.0860, 0.9765],\n",
              "        [0.3940, 0.0113, 0.3352],\n",
              "        [0.9801, 0.5837, 0.6479],\n",
              "        [0.6644, 0.4231, 0.6065],\n",
              "        [0.8328, 0.7253, 0.2219],\n",
              "        [0.1297, 0.6008, 0.0133],\n",
              "        [0.3331, 0.3032, 0.7105],\n",
              "        [0.8462, 0.8974, 0.2483],\n",
              "        [0.8122, 0.0957, 0.4112],\n",
              "        [0.0465, 0.2714, 0.0817],\n",
              "        [0.4961, 0.3969, 0.9050],\n",
              "        [0.1684, 0.0213, 0.6347],\n",
              "        [0.7127, 0.1469, 0.5186],\n",
              "        [0.9050, 0.3125, 0.8443],\n",
              "        [0.0546, 0.0821, 0.1900],\n",
              "        [0.6885, 0.2331, 0.5661],\n",
              "        [0.9463, 0.4382, 0.8573],\n",
              "        [0.8914, 0.4884, 0.7218],\n",
              "        [0.3543, 0.3973, 0.5076],\n",
              "        [0.9569, 0.0776, 0.8854],\n",
              "        [0.0639, 0.6299, 0.9944],\n",
              "        [0.4454, 0.9547, 0.3791],\n",
              "        [0.3330, 0.8202, 0.0741],\n",
              "        [0.5322, 0.6052, 0.0964],\n",
              "        [0.2618, 0.4196, 0.2726],\n",
              "        [0.0228, 0.5676, 0.7187],\n",
              "        [0.1494, 0.4740, 0.8911],\n",
              "        [0.6897, 0.1374, 0.1140],\n",
              "        [0.9933, 0.5295, 0.5341],\n",
              "        [0.0831, 0.4492, 0.9738],\n",
              "        [0.1710, 0.1626, 0.5986],\n",
              "        [0.9031, 0.3558, 0.4500],\n",
              "        [0.1253, 0.7463, 0.7542],\n",
              "        [0.0617, 0.7366, 0.6322],\n",
              "        [0.8260, 0.3340, 0.5188],\n",
              "        [0.3416, 0.8117, 0.5586],\n",
              "        [0.3626, 0.0642, 0.9312],\n",
              "        [0.7362, 0.4781, 0.7476],\n",
              "        [0.3957, 0.3492, 0.6528],\n",
              "        [0.0628, 0.9562, 0.2927],\n",
              "        [0.3303, 0.3412, 0.6588],\n",
              "        [0.5280, 0.0564, 0.7084],\n",
              "        [0.6631, 0.3553, 0.0652],\n",
              "        [0.4585, 0.3409, 0.4324],\n",
              "        [0.1114, 0.0387, 0.9939],\n",
              "        [0.5350, 0.4097, 0.4551],\n",
              "        [0.4407, 0.6681, 0.8104],\n",
              "        [0.8145, 0.0663, 0.4794],\n",
              "        [0.1599, 0.4713, 0.9499],\n",
              "        [0.3672, 0.7409, 0.5965],\n",
              "        [0.5292, 0.7696, 0.5266],\n",
              "        [0.6167, 0.3756, 0.5654],\n",
              "        [0.2033, 0.0095, 0.5186],\n",
              "        [0.2564, 0.3672, 0.3097],\n",
              "        [0.1175, 0.4551, 0.2922],\n",
              "        [0.9353, 0.1541, 0.7748],\n",
              "        [0.4090, 0.0093, 0.7435],\n",
              "        [0.2122, 0.8927, 0.2693],\n",
              "        [0.8102, 0.5860, 0.5296],\n",
              "        [0.4320, 0.2866, 0.2401],\n",
              "        [0.9055, 0.0423, 0.0097],\n",
              "        [0.2716, 0.0936, 0.8871],\n",
              "        [0.6520, 0.7342, 0.2203],\n",
              "        [0.1275, 0.2014, 0.9373],\n",
              "        [0.2305, 0.3061, 0.7169],\n",
              "        [0.9963, 0.1344, 0.9198],\n",
              "        [0.2737, 0.3219, 0.2810],\n",
              "        [0.1614, 0.9724, 0.4135],\n",
              "        [0.8185, 0.0495, 0.0248],\n",
              "        [0.0664, 0.1209, 0.8832],\n",
              "        [0.1623, 0.4730, 0.8759],\n",
              "        [0.6889, 0.6974, 0.6996],\n",
              "        [0.7455, 0.6588, 0.9274],\n",
              "        [0.4307, 0.0708, 0.1673],\n",
              "        [0.1788, 0.7770, 0.3313],\n",
              "        [0.5632, 0.0413, 0.4121],\n",
              "        [0.7945, 0.2129, 0.7827],\n",
              "        [0.9534, 0.4693, 0.3152],\n",
              "        [0.5848, 0.2492, 0.9893],\n",
              "        [0.6934, 0.1997, 0.8190],\n",
              "        [0.0402, 0.1643, 0.9824],\n",
              "        [0.0671, 0.3926, 0.2906],\n",
              "        [0.1906, 0.7564, 0.2065],\n",
              "        [0.0685, 0.8973, 0.7232],\n",
              "        [0.5340, 0.2963, 0.6201],\n",
              "        [0.7168, 0.7519, 0.7277],\n",
              "        [0.6249, 0.5150, 0.6642],\n",
              "        [0.8216, 0.4234, 0.0944],\n",
              "        [0.1625, 0.8901, 0.1767],\n",
              "        [0.5518, 0.0756, 0.8943],\n",
              "        [0.4315, 0.1629, 0.5697],\n",
              "        [0.9742, 0.7637, 0.2352],\n",
              "        [0.9431, 0.1517, 0.4635],\n",
              "        [0.2577, 0.5545, 0.6832],\n",
              "        [0.7508, 0.0552, 0.7316],\n",
              "        [0.1214, 0.4715, 0.9115],\n",
              "        [0.7268, 0.7971, 0.5143],\n",
              "        [0.0462, 0.0693, 0.2451],\n",
              "        [0.7178, 0.9486, 0.3368],\n",
              "        [0.0634, 0.0550, 0.5439],\n",
              "        [0.5986, 0.4942, 0.4976],\n",
              "        [0.9223, 0.4210, 0.9707],\n",
              "        [0.4207, 0.8498, 0.8302],\n",
              "        [0.2891, 0.6328, 0.7427],\n",
              "        [0.4447, 0.0212, 0.7746],\n",
              "        [0.7600, 0.2003, 0.8217],\n",
              "        [0.5559, 0.2011, 0.7970],\n",
              "        [0.3916, 0.3937, 0.0156],\n",
              "        [0.6158, 0.7204, 0.1697],\n",
              "        [0.5413, 0.6425, 0.9481],\n",
              "        [0.3788, 0.7746, 0.2153],\n",
              "        [0.7897, 0.3866, 0.8584],\n",
              "        [0.2541, 0.4223, 0.6293],\n",
              "        [0.2250, 0.0098, 0.2104],\n",
              "        [0.9832, 0.6641, 0.1657],\n",
              "        [0.6622, 0.1842, 0.7148],\n",
              "        [0.4297, 0.7002, 0.1965],\n",
              "        [0.4726, 0.8693, 0.2311],\n",
              "        [0.4118, 0.6457, 0.2502],\n",
              "        [0.5042, 0.9413, 0.7879],\n",
              "        [0.3343, 0.1357, 0.4723],\n",
              "        [0.4377, 0.9390, 0.2307],\n",
              "        [0.9645, 0.2421, 0.3537],\n",
              "        [0.7943, 0.8504, 0.6211],\n",
              "        [0.7994, 0.4211, 0.4421],\n",
              "        [0.2504, 0.8935, 0.3782],\n",
              "        [0.7377, 0.6964, 0.6223],\n",
              "        [0.8525, 0.2820, 0.1333],\n",
              "        [0.5083, 0.9390, 0.1262],\n",
              "        [0.3896, 0.5230, 0.4086],\n",
              "        [0.0341, 0.5184, 0.0421],\n",
              "        [0.5436, 0.2167, 0.0066],\n",
              "        [0.2508, 0.6411, 0.2906],\n",
              "        [0.2308, 0.5111, 0.3626],\n",
              "        [0.2140, 0.7294, 0.4086],\n",
              "        [0.7720, 0.3548, 0.7687],\n",
              "        [0.1330, 0.7598, 0.3037],\n",
              "        [0.0573, 0.4947, 0.8440],\n",
              "        [0.2566, 0.1701, 0.7512],\n",
              "        [0.4643, 0.7116, 0.7002],\n",
              "        [0.2003, 0.3714, 0.7071],\n",
              "        [0.2772, 0.4066, 0.8559],\n",
              "        [0.6806, 0.0228, 0.0537]])"
            ]
          },
          "metadata": {},
          "execution_count": 16
        }
      ],
      "source": [
        "random_image_size_tensor[0]"
      ]
    },
    {
      "cell_type": "code",
      "execution_count": 17,
      "id": "569ba988",
      "metadata": {
        "colab": {
          "base_uri": "https://localhost:8080/"
        },
        "execution": {
          "iopub.execute_input": "2025-08-05T14:13:46.368707Z",
          "iopub.status.busy": "2025-08-05T14:13:46.368380Z",
          "iopub.status.idle": "2025-08-05T14:13:46.375792Z",
          "shell.execute_reply": "2025-08-05T14:13:46.374978Z"
        },
        "id": "569ba988",
        "outputId": "3c692587-438f-46a5-e52f-5111c01f6e65",
        "papermill": {
          "duration": 0.034145,
          "end_time": "2025-08-05T14:13:46.377381",
          "exception": false,
          "start_time": "2025-08-05T14:13:46.343236",
          "status": "completed"
        },
        "tags": []
      },
      "outputs": [
        {
          "output_type": "execute_result",
          "data": {
            "text/plain": [
              "(torch.Size([3, 224, 224]), 3)"
            ]
          },
          "metadata": {},
          "execution_count": 17
        }
      ],
      "source": [
        "# Create a random tensor of size ( 3,224, 224)\n",
        "random_image_size_tensor = torch.rand(size=(3, 224, 224))\n",
        "random_image_size_tensor.shape, random_image_size_tensor.ndim"
      ]
    },
    {
      "cell_type": "code",
      "execution_count": 18,
      "id": "7d813288",
      "metadata": {
        "colab": {
          "base_uri": "https://localhost:8080/"
        },
        "execution": {
          "iopub.execute_input": "2025-08-05T14:13:46.427528Z",
          "iopub.status.busy": "2025-08-05T14:13:46.427246Z",
          "iopub.status.idle": "2025-08-05T14:13:46.447107Z",
          "shell.execute_reply": "2025-08-05T14:13:46.446258Z"
        },
        "id": "7d813288",
        "outputId": "e5424222-d516-4c08-ae56-d16c3dde56fc",
        "papermill": {
          "duration": 0.046552,
          "end_time": "2025-08-05T14:13:46.448746",
          "exception": false,
          "start_time": "2025-08-05T14:13:46.402194",
          "status": "completed"
        },
        "tags": []
      },
      "outputs": [
        {
          "output_type": "execute_result",
          "data": {
            "text/plain": [
              "tensor([[0.7207, 0.5848, 0.9294,  ..., 0.7179, 0.9985, 0.3284],\n",
              "        [0.6787, 0.9303, 0.8885,  ..., 0.0147, 0.0654, 0.3844],\n",
              "        [0.8684, 0.7717, 0.8750,  ..., 0.1217, 0.8307, 0.8345],\n",
              "        ...,\n",
              "        [0.3311, 0.4170, 0.0111,  ..., 0.3917, 0.2115, 0.3493],\n",
              "        [0.9802, 0.9502, 0.7308,  ..., 0.9142, 0.2196, 0.5505],\n",
              "        [0.1138, 0.0553, 0.6337,  ..., 0.3876, 0.0778, 0.6739]])"
            ]
          },
          "metadata": {},
          "execution_count": 18
        }
      ],
      "source": [
        "random_image_size_tensor[0]"
      ]
    },
    {
      "cell_type": "code",
      "execution_count": 19,
      "id": "147c5ecd",
      "metadata": {
        "colab": {
          "base_uri": "https://localhost:8080/"
        },
        "execution": {
          "iopub.execute_input": "2025-08-05T14:13:46.547211Z",
          "iopub.status.busy": "2025-08-05T14:13:46.546810Z",
          "iopub.status.idle": "2025-08-05T14:13:46.554608Z",
          "shell.execute_reply": "2025-08-05T14:13:46.553843Z"
        },
        "id": "147c5ecd",
        "outputId": "89f5d6f9-49d9-4d52-c4b1-ac24e269ae9d",
        "papermill": {
          "duration": 0.034277,
          "end_time": "2025-08-05T14:13:46.556247",
          "exception": false,
          "start_time": "2025-08-05T14:13:46.521970",
          "status": "completed"
        },
        "tags": []
      },
      "outputs": [
        {
          "output_type": "execute_result",
          "data": {
            "text/plain": [
              "(tensor([[0., 0., 0., 0.],\n",
              "         [0., 0., 0., 0.],\n",
              "         [0., 0., 0., 0.]]),\n",
              " torch.float32)"
            ]
          },
          "metadata": {},
          "execution_count": 19
        }
      ],
      "source": [
        "# Create a tensor of all zeros\n",
        "zeros = torch.zeros(size=(3, 4))\n",
        "zeros, zeros.dtype"
      ]
    },
    {
      "cell_type": "code",
      "execution_count": 20,
      "id": "9c68e8aa",
      "metadata": {
        "colab": {
          "base_uri": "https://localhost:8080/"
        },
        "execution": {
          "iopub.execute_input": "2025-08-05T14:13:46.654992Z",
          "iopub.status.busy": "2025-08-05T14:13:46.654674Z",
          "iopub.status.idle": "2025-08-05T14:13:46.662953Z",
          "shell.execute_reply": "2025-08-05T14:13:46.662125Z"
        },
        "id": "9c68e8aa",
        "outputId": "6de14c86-4e61-4a5d-dccf-5219612cf556",
        "papermill": {
          "duration": 0.03537,
          "end_time": "2025-08-05T14:13:46.664529",
          "exception": false,
          "start_time": "2025-08-05T14:13:46.629159",
          "status": "completed"
        },
        "tags": []
      },
      "outputs": [
        {
          "output_type": "execute_result",
          "data": {
            "text/plain": [
              "(tensor([[1., 1., 1., 1.],\n",
              "         [1., 1., 1., 1.],\n",
              "         [1., 1., 1., 1.]]),\n",
              " torch.float32)"
            ]
          },
          "metadata": {},
          "execution_count": 20
        }
      ],
      "source": [
        "# Create a tensor of all ones\n",
        "ones = torch.ones(size=(3, 4))\n",
        "ones, ones.dtype"
      ]
    },
    {
      "cell_type": "code",
      "execution_count": 21,
      "id": "5b465148",
      "metadata": {
        "colab": {
          "base_uri": "https://localhost:8080/"
        },
        "execution": {
          "iopub.execute_input": "2025-08-05T14:13:46.764356Z",
          "iopub.status.busy": "2025-08-05T14:13:46.764009Z",
          "iopub.status.idle": "2025-08-05T14:13:46.774749Z",
          "shell.execute_reply": "2025-08-05T14:13:46.773869Z"
        },
        "id": "5b465148",
        "outputId": "a288c734-0bda-4f74-f267-f1960a888d96",
        "papermill": {
          "duration": 0.038262,
          "end_time": "2025-08-05T14:13:46.776412",
          "exception": false,
          "start_time": "2025-08-05T14:13:46.738150",
          "status": "completed"
        },
        "tags": []
      },
      "outputs": [
        {
          "output_type": "stream",
          "name": "stderr",
          "text": [
            "/tmp/ipython-input-1814108326.py:2: UserWarning: torch.range is deprecated and will be removed in a future release because its behavior is inconsistent with Python's range builtin. Instead, use torch.arange, which produces values in [start, end).\n",
            "  zero_to_ten_deprecated = torch.range(0, 10) # Note: this may return an error in the future\n"
          ]
        },
        {
          "output_type": "execute_result",
          "data": {
            "text/plain": [
              "tensor([0, 1, 2, 3, 4, 5, 6, 7, 8, 9])"
            ]
          },
          "metadata": {},
          "execution_count": 21
        }
      ],
      "source": [
        "# Use torch.arange(), torch.range() is deprecated\n",
        "zero_to_ten_deprecated = torch.range(0, 10) # Note: this may return an error in the future\n",
        "\n",
        "# Create a range of values 0 to 10\n",
        "zero_to_ten = torch.arange(start=0, end=10, step=1)\n",
        "zero_to_ten"
      ]
    },
    {
      "cell_type": "code",
      "execution_count": 22,
      "id": "371b3137",
      "metadata": {
        "colab": {
          "base_uri": "https://localhost:8080/"
        },
        "execution": {
          "iopub.execute_input": "2025-08-05T14:13:46.877461Z",
          "iopub.status.busy": "2025-08-05T14:13:46.877144Z",
          "iopub.status.idle": "2025-08-05T14:13:46.884787Z",
          "shell.execute_reply": "2025-08-05T14:13:46.883918Z"
        },
        "id": "371b3137",
        "outputId": "3f385c33-ca78-47ec-9cc8-a81496a9c89c",
        "papermill": {
          "duration": 0.03619,
          "end_time": "2025-08-05T14:13:46.886396",
          "exception": false,
          "start_time": "2025-08-05T14:13:46.850206",
          "status": "completed"
        },
        "tags": []
      },
      "outputs": [
        {
          "output_type": "execute_result",
          "data": {
            "text/plain": [
              "tensor([0, 0, 0, 0, 0, 0, 0, 0, 0, 0])"
            ]
          },
          "metadata": {},
          "execution_count": 22
        }
      ],
      "source": [
        "# Can also create a tensor of zeros similar to another tensor\n",
        "ten_zeros = torch.zeros_like(input=zero_to_ten) # will have same shape\n",
        "ten_zeros"
      ]
    },
    {
      "cell_type": "code",
      "execution_count": 23,
      "id": "c39f3641",
      "metadata": {
        "colab": {
          "base_uri": "https://localhost:8080/"
        },
        "execution": {
          "iopub.execute_input": "2025-08-05T14:13:46.938542Z",
          "iopub.status.busy": "2025-08-05T14:13:46.937647Z",
          "iopub.status.idle": "2025-08-05T14:13:46.944512Z",
          "shell.execute_reply": "2025-08-05T14:13:46.943777Z"
        },
        "id": "c39f3641",
        "outputId": "ddaaa30e-7247-45ea-9f78-76bc86542524",
        "papermill": {
          "duration": 0.033902,
          "end_time": "2025-08-05T14:13:46.945844",
          "exception": false,
          "start_time": "2025-08-05T14:13:46.911942",
          "status": "completed"
        },
        "tags": []
      },
      "outputs": [
        {
          "output_type": "execute_result",
          "data": {
            "text/plain": [
              "(tensor([[0, 0],\n",
              "         [0, 0]]),\n",
              " torch.Size([2, 2]))"
            ]
          },
          "metadata": {},
          "execution_count": 23
        }
      ],
      "source": [
        "\n",
        "matrix_zeros = torch.zeros_like(input=MATRIX) # will have same shape\n",
        "matrix_zeros, matrix_zeros.shape\n"
      ]
    },
    {
      "cell_type": "code",
      "execution_count": 24,
      "id": "5121e48d",
      "metadata": {
        "colab": {
          "base_uri": "https://localhost:8080/"
        },
        "execution": {
          "iopub.execute_input": "2025-08-05T14:13:46.997433Z",
          "iopub.status.busy": "2025-08-05T14:13:46.997072Z",
          "iopub.status.idle": "2025-08-05T14:13:47.003868Z",
          "shell.execute_reply": "2025-08-05T14:13:47.002999Z"
        },
        "id": "5121e48d",
        "outputId": "a976727a-7f33-47e3-c374-bda5ed37e292",
        "papermill": {
          "duration": 0.034138,
          "end_time": "2025-08-05T14:13:47.005346",
          "exception": false,
          "start_time": "2025-08-05T14:13:46.971208",
          "status": "completed"
        },
        "tags": []
      },
      "outputs": [
        {
          "output_type": "execute_result",
          "data": {
            "text/plain": [
              "(tensor([[[1, 1, 1],\n",
              "          [1, 1, 1],\n",
              "          [1, 1, 1]]]),\n",
              " torch.Size([1, 3, 3]))"
            ]
          },
          "metadata": {},
          "execution_count": 24
        }
      ],
      "source": [
        "tensor_ones = torch.ones_like(input=TENSOR) # will have same shape\n",
        "tensor_ones, tensor_ones.shape"
      ]
    },
    {
      "cell_type": "code",
      "execution_count": 25,
      "id": "dec26b35",
      "metadata": {
        "colab": {
          "base_uri": "https://localhost:8080/"
        },
        "execution": {
          "iopub.execute_input": "2025-08-05T14:13:47.106137Z",
          "iopub.status.busy": "2025-08-05T14:13:47.105264Z",
          "iopub.status.idle": "2025-08-05T14:13:47.111787Z",
          "shell.execute_reply": "2025-08-05T14:13:47.110956Z"
        },
        "id": "dec26b35",
        "outputId": "9528ea27-30eb-4db6-df39-57aaadfd715c",
        "papermill": {
          "duration": 0.03349,
          "end_time": "2025-08-05T14:13:47.113308",
          "exception": false,
          "start_time": "2025-08-05T14:13:47.079818",
          "status": "completed"
        },
        "tags": []
      },
      "outputs": [
        {
          "output_type": "execute_result",
          "data": {
            "text/plain": [
              "(torch.Size([3]), torch.float32, device(type='cpu'))"
            ]
          },
          "metadata": {},
          "execution_count": 25
        }
      ],
      "source": [
        "# Default datatype for tensors is float32\n",
        "float_32_tensor = torch.tensor([3.0, 6.0, 9.0],\n",
        "                               dtype=None, # defaults to None, which is torch.float32 or whatever datatype is passed\n",
        "                               device=None, # defaults to None, which uses the default device type\n",
        "                               requires_grad=False) # if True, operations perfromed on the tensor are recorded\n",
        "\n",
        "float_32_tensor.shape, float_32_tensor.dtype, float_32_tensor.device"
      ]
    },
    {
      "cell_type": "code",
      "execution_count": 26,
      "id": "271958fa",
      "metadata": {
        "colab": {
          "base_uri": "https://localhost:8080/"
        },
        "id": "271958fa",
        "outputId": "12030857-baaa-4ebe-cb8b-8ad83cea13d5",
        "papermill": {
          "duration": null,
          "end_time": null,
          "exception": null,
          "start_time": null,
          "status": "pending"
        },
        "tags": []
      },
      "outputs": [
        {
          "output_type": "execute_result",
          "data": {
            "text/plain": [
              "torch.float16"
            ]
          },
          "metadata": {},
          "execution_count": 26
        }
      ],
      "source": [
        "float_16_tensor = torch.tensor([3.0, 6.0, 9.0],\n",
        "                               dtype=torch.float16) # torch.half would also work\n",
        "\n",
        "float_16_tensor.dtype"
      ]
    },
    {
      "cell_type": "code",
      "execution_count": 27,
      "id": "a35f6a08",
      "metadata": {
        "colab": {
          "base_uri": "https://localhost:8080/"
        },
        "id": "a35f6a08",
        "outputId": "4abec240-9861-40dd-91ef-ecccd6339247",
        "papermill": {
          "duration": null,
          "end_time": null,
          "exception": null,
          "start_time": null,
          "status": "pending"
        },
        "tags": []
      },
      "outputs": [
        {
          "output_type": "stream",
          "name": "stdout",
          "text": [
            "tensor([[0.9856, 0.6544, 0.2229, 0.8857],\n",
            "        [0.4391, 0.8130, 0.6078, 0.8926],\n",
            "        [0.3836, 0.9542, 0.5525, 0.2048]])\n",
            "Shape of tensor: torch.Size([3, 4])\n",
            "Datatype of tensor: torch.float32\n",
            "Device tensor is stored on: cpu\n"
          ]
        }
      ],
      "source": [
        "# Create a tensor\n",
        "some_tensor = torch.rand(3, 4)\n",
        "\n",
        "# Find out details about it\n",
        "print(some_tensor)\n",
        "print(f\"Shape of tensor: {some_tensor.shape}\")\n",
        "print(f\"Datatype of tensor: {some_tensor.dtype}\")\n",
        "print(f\"Device tensor is stored on: {some_tensor.device}\") # will default to CPU"
      ]
    },
    {
      "cell_type": "code",
      "execution_count": 28,
      "id": "fbb98e0a",
      "metadata": {
        "colab": {
          "base_uri": "https://localhost:8080/"
        },
        "id": "fbb98e0a",
        "outputId": "05f267ea-9ec1-4aaf-866c-363fefbf42e2",
        "papermill": {
          "duration": null,
          "end_time": null,
          "exception": null,
          "start_time": null,
          "status": "pending"
        },
        "tags": []
      },
      "outputs": [
        {
          "output_type": "execute_result",
          "data": {
            "text/plain": [
              "tensor([11, 12, 13])"
            ]
          },
          "metadata": {},
          "execution_count": 28
        }
      ],
      "source": [
        "# Create a tensor of values and add a number to it\n",
        "tensor = torch.tensor([1, 2, 3])\n",
        "tensor + 10"
      ]
    },
    {
      "cell_type": "code",
      "execution_count": 29,
      "id": "db8a1fd2",
      "metadata": {
        "colab": {
          "base_uri": "https://localhost:8080/"
        },
        "id": "db8a1fd2",
        "outputId": "f7eaeb0f-c5b8-49c4-d09e-b47f89bc4d01",
        "papermill": {
          "duration": null,
          "end_time": null,
          "exception": null,
          "start_time": null,
          "status": "pending"
        },
        "tags": []
      },
      "outputs": [
        {
          "output_type": "execute_result",
          "data": {
            "text/plain": [
              "tensor([10, 20, 30])"
            ]
          },
          "metadata": {},
          "execution_count": 29
        }
      ],
      "source": [
        "# Multiply it by 10\n",
        "tensor * 10"
      ]
    },
    {
      "cell_type": "code",
      "execution_count": 30,
      "id": "da395055",
      "metadata": {
        "colab": {
          "base_uri": "https://localhost:8080/"
        },
        "id": "da395055",
        "outputId": "1287faa1-d120-4386-e983-07a024b4674a",
        "papermill": {
          "duration": null,
          "end_time": null,
          "exception": null,
          "start_time": null,
          "status": "pending"
        },
        "tags": []
      },
      "outputs": [
        {
          "output_type": "execute_result",
          "data": {
            "text/plain": [
              "tensor([1, 2, 3])"
            ]
          },
          "metadata": {},
          "execution_count": 30
        }
      ],
      "source": [
        "# Tensors don't change unless reassigned\n",
        "tensor"
      ]
    },
    {
      "cell_type": "code",
      "execution_count": 31,
      "id": "f8ad06bf",
      "metadata": {
        "colab": {
          "base_uri": "https://localhost:8080/"
        },
        "id": "f8ad06bf",
        "outputId": "d79906d6-4708-4b1f-9908-9165cbf58ef8",
        "papermill": {
          "duration": null,
          "end_time": null,
          "exception": null,
          "start_time": null,
          "status": "pending"
        },
        "tags": []
      },
      "outputs": [
        {
          "output_type": "execute_result",
          "data": {
            "text/plain": [
              "tensor([-9, -8, -7])"
            ]
          },
          "metadata": {},
          "execution_count": 31
        }
      ],
      "source": [
        "# Subtract and reassign\n",
        "tensor = tensor - 10\n",
        "tensor"
      ]
    },
    {
      "cell_type": "code",
      "execution_count": 32,
      "id": "d0d584d7",
      "metadata": {
        "colab": {
          "base_uri": "https://localhost:8080/"
        },
        "id": "d0d584d7",
        "outputId": "0021a59f-9d99-44c9-ab29-2023bf7d62c6",
        "papermill": {
          "duration": null,
          "end_time": null,
          "exception": null,
          "start_time": null,
          "status": "pending"
        },
        "tags": []
      },
      "outputs": [
        {
          "output_type": "execute_result",
          "data": {
            "text/plain": [
              "tensor([1, 2, 3])"
            ]
          },
          "metadata": {},
          "execution_count": 32
        }
      ],
      "source": [
        "# Add and reassign\n",
        "tensor = tensor + 10\n",
        "tensor"
      ]
    },
    {
      "cell_type": "code",
      "execution_count": 33,
      "id": "34a859d3",
      "metadata": {
        "colab": {
          "base_uri": "https://localhost:8080/"
        },
        "id": "34a859d3",
        "outputId": "c43ea804-a3c2-4f1f-83a1-bf6f6b287d46",
        "papermill": {
          "duration": null,
          "end_time": null,
          "exception": null,
          "start_time": null,
          "status": "pending"
        },
        "tags": []
      },
      "outputs": [
        {
          "output_type": "execute_result",
          "data": {
            "text/plain": [
              "tensor([10, 20, 30])"
            ]
          },
          "metadata": {},
          "execution_count": 33
        }
      ],
      "source": [
        "# Can also use torch functions\n",
        "torch.multiply(tensor, 10)"
      ]
    },
    {
      "cell_type": "code",
      "execution_count": 34,
      "id": "9c02b5d4",
      "metadata": {
        "colab": {
          "base_uri": "https://localhost:8080/"
        },
        "id": "9c02b5d4",
        "outputId": "6e642408-5c31-4d28-f229-a16691abb23a",
        "papermill": {
          "duration": null,
          "end_time": null,
          "exception": null,
          "start_time": null,
          "status": "pending"
        },
        "tags": []
      },
      "outputs": [
        {
          "output_type": "execute_result",
          "data": {
            "text/plain": [
              "tensor([1, 2, 3])"
            ]
          },
          "metadata": {},
          "execution_count": 34
        }
      ],
      "source": [
        "# Original tensor is still unchanged\n",
        "tensor"
      ]
    },
    {
      "cell_type": "code",
      "execution_count": 35,
      "id": "c1cc1a6f",
      "metadata": {
        "colab": {
          "base_uri": "https://localhost:8080/"
        },
        "id": "c1cc1a6f",
        "outputId": "534e81bf-0f6f-49cc-b571-c54660569b42",
        "papermill": {
          "duration": null,
          "end_time": null,
          "exception": null,
          "start_time": null,
          "status": "pending"
        },
        "tags": []
      },
      "outputs": [
        {
          "output_type": "stream",
          "name": "stdout",
          "text": [
            "tensor([1, 2, 3]) * tensor([1, 2, 3])\n",
            "Equals: tensor([1, 4, 9])\n"
          ]
        }
      ],
      "source": [
        "# Element-wise multiplication (each element multiplies its equivalent, index 0->0, 1->1, 2->2)\n",
        "print(tensor, \"*\", tensor)\n",
        "print(\"Equals:\", tensor * tensor)"
      ]
    },
    {
      "cell_type": "code",
      "execution_count": 36,
      "id": "54c073d7",
      "metadata": {
        "colab": {
          "base_uri": "https://localhost:8080/"
        },
        "id": "54c073d7",
        "outputId": "85755a69-5084-4414-b4b4-72bf98bb7254",
        "papermill": {
          "duration": null,
          "end_time": null,
          "exception": null,
          "start_time": null,
          "status": "pending"
        },
        "tags": []
      },
      "outputs": [
        {
          "output_type": "stream",
          "name": "stdout",
          "text": [
            "tensor([1, 2, 3]) * tensor([1, 2, 3])\n",
            "Equalently using torch.mul(tensor,tensor): tensor([1, 4, 9])\n"
          ]
        }
      ],
      "source": [
        "print(tensor, \"*\", tensor)\n",
        "print(\"Equalently using torch.mul(tensor,tensor):\", torch.mul(tensor,tensor))"
      ]
    },
    {
      "cell_type": "code",
      "execution_count": 37,
      "id": "6e9aa35b",
      "metadata": {
        "colab": {
          "base_uri": "https://localhost:8080/"
        },
        "id": "6e9aa35b",
        "outputId": "74b011ba-d006-48b2-d31e-256d2f22d753",
        "papermill": {
          "duration": null,
          "end_time": null,
          "exception": null,
          "start_time": null,
          "status": "pending"
        },
        "tags": []
      },
      "outputs": [
        {
          "output_type": "execute_result",
          "data": {
            "text/plain": [
              "torch.Size([3])"
            ]
          },
          "metadata": {},
          "execution_count": 37
        }
      ],
      "source": [
        "import torch\n",
        "tensor = torch.tensor([1, 2, 3])\n",
        "tensor.shape"
      ]
    },
    {
      "cell_type": "code",
      "execution_count": 38,
      "id": "437dc4d1",
      "metadata": {
        "colab": {
          "base_uri": "https://localhost:8080/"
        },
        "id": "437dc4d1",
        "outputId": "a5100783-a1aa-4d8b-8c86-5c5b1464ccf2",
        "papermill": {
          "duration": null,
          "end_time": null,
          "exception": null,
          "start_time": null,
          "status": "pending"
        },
        "tags": []
      },
      "outputs": [
        {
          "output_type": "execute_result",
          "data": {
            "text/plain": [
              "tensor([1, 4, 9])"
            ]
          },
          "metadata": {},
          "execution_count": 38
        }
      ],
      "source": [
        "# Element-wise matrix mutlication\n",
        "tensor * tensor"
      ]
    },
    {
      "cell_type": "code",
      "execution_count": 39,
      "id": "d2ad3b00",
      "metadata": {
        "colab": {
          "base_uri": "https://localhost:8080/"
        },
        "id": "d2ad3b00",
        "outputId": "f6d65e71-2280-47bd-c128-1331ffaa3f6f",
        "papermill": {
          "duration": null,
          "end_time": null,
          "exception": null,
          "start_time": null,
          "status": "pending"
        },
        "tags": []
      },
      "outputs": [
        {
          "output_type": "execute_result",
          "data": {
            "text/plain": [
              "tensor(14)"
            ]
          },
          "metadata": {},
          "execution_count": 39
        }
      ],
      "source": [
        "# Matrix multiplication\n",
        "torch.matmul(tensor, tensor)"
      ]
    },
    {
      "cell_type": "code",
      "execution_count": 40,
      "id": "cd36a073",
      "metadata": {
        "colab": {
          "base_uri": "https://localhost:8080/"
        },
        "id": "cd36a073",
        "outputId": "829472e7-7cf8-4b7a-b1d7-231fdf185f03",
        "papermill": {
          "duration": null,
          "end_time": null,
          "exception": null,
          "start_time": null,
          "status": "pending"
        },
        "tags": []
      },
      "outputs": [
        {
          "output_type": "execute_result",
          "data": {
            "text/plain": [
              "tensor(14)"
            ]
          },
          "metadata": {},
          "execution_count": 40
        }
      ],
      "source": [
        "# Can also use the \"@\" symbol for matrix multiplication, though not recommended\n",
        "tensor @ tensor"
      ]
    },
    {
      "cell_type": "code",
      "execution_count": 41,
      "id": "18b1d835",
      "metadata": {
        "id": "18b1d835",
        "papermill": {
          "duration": null,
          "end_time": null,
          "exception": null,
          "start_time": null,
          "status": "pending"
        },
        "tags": []
      },
      "outputs": [],
      "source": [
        "matrix_A = torch.tensor([[1,2],\n",
        "                          [3,4]])\n",
        "\n",
        "matrix_B = torch.tensor([[1,0,1],\n",
        "                          [0,1,1]])"
      ]
    },
    {
      "cell_type": "code",
      "execution_count": 42,
      "id": "7f6f5f76",
      "metadata": {
        "colab": {
          "base_uri": "https://localhost:8080/"
        },
        "id": "7f6f5f76",
        "outputId": "56b97430-7b43-4daf-cdca-7b5f46361460",
        "papermill": {
          "duration": null,
          "end_time": null,
          "exception": null,
          "start_time": null,
          "status": "pending"
        },
        "tags": []
      },
      "outputs": [
        {
          "output_type": "execute_result",
          "data": {
            "text/plain": [
              "tensor([[1, 2, 3],\n",
              "        [3, 4, 7]])"
            ]
          },
          "metadata": {},
          "execution_count": 42
        }
      ],
      "source": [
        "matrix_A @ matrix_B"
      ]
    },
    {
      "cell_type": "code",
      "execution_count": 43,
      "id": "d9dceccf",
      "metadata": {
        "colab": {
          "base_uri": "https://localhost:8080/"
        },
        "id": "d9dceccf",
        "outputId": "1d1c8b96-b81a-4da5-f711-a572f9a23d99",
        "papermill": {
          "duration": null,
          "end_time": null,
          "exception": null,
          "start_time": null,
          "status": "pending"
        },
        "tags": []
      },
      "outputs": [
        {
          "output_type": "execute_result",
          "data": {
            "text/plain": [
              "tensor([[1, 2, 3],\n",
              "        [3, 4, 7]])"
            ]
          },
          "metadata": {},
          "execution_count": 43
        }
      ],
      "source": [
        "torch.matmul(matrix_A, matrix_B)"
      ]
    },
    {
      "cell_type": "code",
      "execution_count": 44,
      "id": "42f08beb",
      "metadata": {
        "colab": {
          "base_uri": "https://localhost:8080/"
        },
        "id": "42f08beb",
        "outputId": "be33fef4-a485-4544-e99c-818414b79f56",
        "papermill": {
          "duration": null,
          "end_time": null,
          "exception": null,
          "start_time": null,
          "status": "pending"
        },
        "tags": []
      },
      "outputs": [
        {
          "output_type": "stream",
          "name": "stdout",
          "text": [
            "CPU times: user 264 µs, sys: 53 µs, total: 317 µs\n",
            "Wall time: 411 µs\n"
          ]
        },
        {
          "output_type": "execute_result",
          "data": {
            "text/plain": [
              "tensor(14)"
            ]
          },
          "metadata": {},
          "execution_count": 44
        }
      ],
      "source": [
        "%%time\n",
        "# Matrix multiplication by hand\n",
        "# (avoid doing operations with for loops at all cost, they are computationally expensive)\n",
        "value = 0\n",
        "for i in range(len(tensor)):\n",
        "  value += tensor[i] * tensor[i]\n",
        "value"
      ]
    },
    {
      "cell_type": "code",
      "execution_count": 45,
      "id": "451e2826",
      "metadata": {
        "colab": {
          "base_uri": "https://localhost:8080/"
        },
        "id": "451e2826",
        "outputId": "e0be087e-e3fa-494b-9949-4320790cad16",
        "papermill": {
          "duration": null,
          "end_time": null,
          "exception": null,
          "start_time": null,
          "status": "pending"
        },
        "tags": []
      },
      "outputs": [
        {
          "output_type": "stream",
          "name": "stdout",
          "text": [
            "CPU times: user 54 µs, sys: 11 µs, total: 65 µs\n",
            "Wall time: 69.1 µs\n"
          ]
        },
        {
          "output_type": "execute_result",
          "data": {
            "text/plain": [
              "tensor(14)"
            ]
          },
          "metadata": {},
          "execution_count": 45
        }
      ],
      "source": [
        "%%time\n",
        "torch.matmul(tensor, tensor)"
      ]
    },
    {
      "cell_type": "code",
      "execution_count": 46,
      "id": "23a467d1",
      "metadata": {
        "colab": {
          "base_uri": "https://localhost:8080/"
        },
        "id": "23a467d1",
        "outputId": "6736717b-0958-4a42-baf4-e16c897ca258",
        "papermill": {
          "duration": null,
          "end_time": null,
          "exception": null,
          "start_time": null,
          "status": "pending"
        },
        "tags": []
      },
      "outputs": [
        {
          "output_type": "stream",
          "name": "stdout",
          "text": [
            "Shape of A: torch.Size([3, 2])\n",
            "Shape of B: torch.Size([3, 2])\n"
          ]
        }
      ],
      "source": [
        "# Shapes need to be in the right way\n",
        "tensor_A = torch.tensor([[1, 2],\n",
        "                         [3, 4],\n",
        "                         [5, 6]], dtype=torch.float32)\n",
        "print(\"Shape of A:\",tensor_A .shape)\n",
        "\n",
        "tensor_B = torch.tensor([[7, 10],\n",
        "                         [8, 11],\n",
        "                         [9, 12]], dtype=torch.float32)\n",
        "print(\"Shape of B:\",tensor_B .shape)\n",
        "\n"
      ]
    },
    {
      "cell_type": "code",
      "execution_count": 48,
      "id": "087667eb",
      "metadata": {
        "colab": {
          "base_uri": "https://localhost:8080/"
        },
        "id": "087667eb",
        "outputId": "39ac4d59-c7ea-410e-dfb6-9f301b0c3c27",
        "papermill": {
          "duration": null,
          "end_time": null,
          "exception": null,
          "start_time": null,
          "status": "pending"
        },
        "tags": []
      },
      "outputs": [
        {
          "output_type": "stream",
          "name": "stdout",
          "text": [
            "tensor([[1., 2.],\n",
            "        [3., 4.],\n",
            "        [5., 6.]])\n",
            "tensor([[ 7., 10.],\n",
            "        [ 8., 11.],\n",
            "        [ 9., 12.]])\n"
          ]
        }
      ],
      "source": [
        "# View tensor_A and tensor_B\n",
        "print(tensor_A)\n",
        "print(tensor_B)"
      ]
    },
    {
      "cell_type": "code",
      "execution_count": 49,
      "id": "7c4267da",
      "metadata": {
        "colab": {
          "base_uri": "https://localhost:8080/"
        },
        "id": "7c4267da",
        "outputId": "40387899-7ed1-4bd7-c117-4b599f182546",
        "papermill": {
          "duration": null,
          "end_time": null,
          "exception": null,
          "start_time": null,
          "status": "pending"
        },
        "tags": []
      },
      "outputs": [
        {
          "output_type": "stream",
          "name": "stdout",
          "text": [
            "tensor([[1., 2.],\n",
            "        [3., 4.],\n",
            "        [5., 6.]])\n",
            "tensor([[ 7.,  8.,  9.],\n",
            "        [10., 11., 12.]])\n"
          ]
        }
      ],
      "source": [
        "# View tensor_A and tensor_B.T\n",
        "print(tensor_A)\n",
        "print(tensor_B.T)"
      ]
    },
    {
      "cell_type": "code",
      "execution_count": 50,
      "id": "3290a375",
      "metadata": {
        "colab": {
          "base_uri": "https://localhost:8080/"
        },
        "id": "3290a375",
        "outputId": "19023f81-6721-4478-a018-9a5ee2598549",
        "papermill": {
          "duration": null,
          "end_time": null,
          "exception": null,
          "start_time": null,
          "status": "pending"
        },
        "tags": []
      },
      "outputs": [
        {
          "output_type": "stream",
          "name": "stdout",
          "text": [
            "Original shapes: tensor_A = torch.Size([3, 2]), tensor_B = torch.Size([3, 2])\n",
            "\n",
            "New shapes: tensor_A = torch.Size([3, 2]) (same as above), tensor_B.T = torch.Size([2, 3])\n",
            "\n",
            "Multiplying: torch.Size([3, 2]) * torch.Size([2, 3]) <- inner dimensions match\n",
            "\n",
            "Output:\n",
            "\n",
            "tensor([[ 27.,  30.,  33.],\n",
            "        [ 61.,  68.,  75.],\n",
            "        [ 95., 106., 117.]])\n",
            "\n",
            "Output shape: torch.Size([3, 3])\n"
          ]
        }
      ],
      "source": [
        "# The operation works when tensor_B is transposed\n",
        "print(f\"Original shapes: tensor_A = {tensor_A.shape}, tensor_B = {tensor_B.shape}\\n\")\n",
        "print(f\"New shapes: tensor_A = {tensor_A.shape} (same as above), tensor_B.T = {tensor_B.T.shape}\\n\")\n",
        "print(f\"Multiplying: {tensor_A.shape} * {tensor_B.T.shape} <- inner dimensions match\\n\")\n",
        "print(\"Output:\\n\")\n",
        "output = torch.matmul(tensor_A, tensor_B.T)\n",
        "print(output)\n",
        "print(f\"\\nOutput shape: {output.shape}\")"
      ]
    },
    {
      "cell_type": "code",
      "execution_count": 51,
      "id": "805fdbe9",
      "metadata": {
        "colab": {
          "base_uri": "https://localhost:8080/"
        },
        "id": "805fdbe9",
        "outputId": "498db465-db29-4437-d411-71ef3be03685",
        "papermill": {
          "duration": null,
          "end_time": null,
          "exception": null,
          "start_time": null,
          "status": "pending"
        },
        "tags": []
      },
      "outputs": [
        {
          "output_type": "execute_result",
          "data": {
            "text/plain": [
              "tensor([[ 27.,  30.,  33.],\n",
              "        [ 61.,  68.,  75.],\n",
              "        [ 95., 106., 117.]])"
            ]
          },
          "metadata": {},
          "execution_count": 51
        }
      ],
      "source": [
        "# torch.mm is a shortcut for matmul\n",
        "torch.mm(tensor_A, tensor_B.T)"
      ]
    },
    {
      "cell_type": "code",
      "execution_count": 52,
      "id": "d14c47cc",
      "metadata": {
        "colab": {
          "base_uri": "https://localhost:8080/"
        },
        "id": "d14c47cc",
        "outputId": "a19cfdb5-5639-4a05-9fbc-15a0738af1ef",
        "papermill": {
          "duration": null,
          "end_time": null,
          "exception": null,
          "start_time": null,
          "status": "pending"
        },
        "tags": []
      },
      "outputs": [
        {
          "output_type": "stream",
          "name": "stdout",
          "text": [
            "Input shape: torch.Size([3, 2])\n",
            "\n",
            "Output:\n",
            "tensor([[2.2368, 1.2292, 0.4714, 0.3864, 0.1309, 0.9838],\n",
            "        [4.4919, 2.1970, 0.4469, 0.5285, 0.3401, 2.4777],\n",
            "        [6.7469, 3.1648, 0.4224, 0.6705, 0.5493, 3.9716]],\n",
            "       grad_fn=<AddmmBackward0>)\n",
            "\n",
            "Output shape: torch.Size([3, 6])\n"
          ]
        }
      ],
      "source": [
        "# Since the linear layer starts with a random weights matrix, let's make it reproducible (more on this later)\n",
        "torch.manual_seed(42)\n",
        "# This uses matrix mutliplcation\n",
        "linear = torch.nn.Linear(in_features=2, # in_features = matches inner dimension of input\n",
        "                         out_features=6) # out_features = describes outer value\n",
        "x = tensor_A\n",
        "output = linear(x)\n",
        "print(f\"Input shape: {x.shape}\\n\")\n",
        "print(f\"Output:\\n{output}\\n\\nOutput shape: {output.shape}\")"
      ]
    },
    {
      "cell_type": "code",
      "execution_count": 53,
      "id": "8215ba7e",
      "metadata": {
        "colab": {
          "base_uri": "https://localhost:8080/"
        },
        "id": "8215ba7e",
        "outputId": "5f4faeea-1d41-4aab-93f5-2b99e17b9eb9",
        "papermill": {
          "duration": null,
          "end_time": null,
          "exception": null,
          "start_time": null,
          "status": "pending"
        },
        "tags": []
      },
      "outputs": [
        {
          "output_type": "execute_result",
          "data": {
            "text/plain": [
              "tensor([ 0, 10, 20, 30, 40, 50, 60, 70, 80, 90])"
            ]
          },
          "metadata": {},
          "execution_count": 53
        }
      ],
      "source": [
        "# Create a tensor\n",
        "x = torch.arange(0, 100, 10)\n",
        "x"
      ]
    },
    {
      "cell_type": "code",
      "execution_count": 54,
      "id": "8bd685f7",
      "metadata": {
        "colab": {
          "base_uri": "https://localhost:8080/"
        },
        "id": "8bd685f7",
        "outputId": "0e219d0e-5c4a-45da-9486-430721c2cf88",
        "papermill": {
          "duration": null,
          "end_time": null,
          "exception": null,
          "start_time": null,
          "status": "pending"
        },
        "tags": []
      },
      "outputs": [
        {
          "output_type": "stream",
          "name": "stdout",
          "text": [
            "Minimum: 0\n",
            "Maximum: 90\n",
            "Mean: 45.0\n",
            "Sum: 450\n"
          ]
        }
      ],
      "source": [
        "print(f\"Minimum: {x.min()}\")\n",
        "print(f\"Maximum: {x.max()}\")\n",
        "# print(f\"Mean: {x.mean()}\") # this will error\n",
        "print(f\"Mean: {x.type(torch.float32).mean()}\") # won't work without float datatype\n",
        "print(f\"Sum: {x.sum()}\")"
      ]
    },
    {
      "cell_type": "code",
      "execution_count": 55,
      "id": "17ae8d16",
      "metadata": {
        "colab": {
          "base_uri": "https://localhost:8080/"
        },
        "id": "17ae8d16",
        "outputId": "8a0932ad-25e7-41b3-9ac7-9a0ddad1a8b6",
        "papermill": {
          "duration": null,
          "end_time": null,
          "exception": null,
          "start_time": null,
          "status": "pending"
        },
        "tags": []
      },
      "outputs": [
        {
          "output_type": "execute_result",
          "data": {
            "text/plain": [
              "(tensor(90), tensor(0), tensor(45.), tensor(450))"
            ]
          },
          "metadata": {},
          "execution_count": 55
        }
      ],
      "source": [
        "torch.max(x), torch.min(x), torch.mean(x.type(torch.float32)), torch.sum(x)"
      ]
    },
    {
      "cell_type": "code",
      "execution_count": 56,
      "id": "5ebc31d0",
      "metadata": {
        "colab": {
          "base_uri": "https://localhost:8080/"
        },
        "id": "5ebc31d0",
        "outputId": "69378314-3f7a-4727-c3a5-7ef0be4f0cef",
        "papermill": {
          "duration": null,
          "end_time": null,
          "exception": null,
          "start_time": null,
          "status": "pending"
        },
        "tags": []
      },
      "outputs": [
        {
          "output_type": "stream",
          "name": "stdout",
          "text": [
            "Tensor: tensor([10, 20, 30, 40, 50, 60, 70, 80, 90])\n",
            "Index where max value occurs: 8\n",
            "Index where min value occurs: 0\n"
          ]
        }
      ],
      "source": [
        "# Create a tensor\n",
        "tensor = torch.arange(10, 100, 10)\n",
        "print(f\"Tensor: {tensor}\")\n",
        "\n",
        "# Returns index of max and min values\n",
        "print(f\"Index where max value occurs: {tensor.argmax()}\")\n",
        "print(f\"Index where min value occurs: {tensor.argmin()}\")"
      ]
    },
    {
      "cell_type": "code",
      "execution_count": 57,
      "id": "28b6a036",
      "metadata": {
        "colab": {
          "base_uri": "https://localhost:8080/"
        },
        "id": "28b6a036",
        "outputId": "e8f2a5b2-063d-4731-f4b9-f388dc541814",
        "papermill": {
          "duration": null,
          "end_time": null,
          "exception": null,
          "start_time": null,
          "status": "pending"
        },
        "tags": []
      },
      "outputs": [
        {
          "output_type": "stream",
          "name": "stdout",
          "text": [
            "Tensor: tensor([   10,   100,    10,    20,    34,  1344,    14, 46436,    14, 46436])\n",
            "Index where max value occurs: 7\n",
            "Index where min value occurs: 0\n"
          ]
        }
      ],
      "source": [
        "# Create a tensor\n",
        "tensor = torch.tensor([10, 100, 10,20,34,1344,14,46436,14,46436])\n",
        "print(f\"Tensor: {tensor}\")\n",
        "\n",
        "# Returns index of max and min values\n",
        "print(f\"Index where max value occurs: {tensor.argmax()}\")\n",
        "print(f\"Index where min value occurs: {tensor.argmin()}\")"
      ]
    },
    {
      "cell_type": "code",
      "execution_count": 58,
      "id": "ff2142a0",
      "metadata": {
        "colab": {
          "base_uri": "https://localhost:8080/"
        },
        "id": "ff2142a0",
        "outputId": "69b8164c-554c-46d0-8362-e82e28806bec",
        "papermill": {
          "duration": null,
          "end_time": null,
          "exception": null,
          "start_time": null,
          "status": "pending"
        },
        "tags": []
      },
      "outputs": [
        {
          "output_type": "stream",
          "name": "stdout",
          "text": [
            "tensor([10.5000, 20.5000, 30.5000, 40.5000, 50.5000, 60.5000, 70.5000, 80.5000,\n",
            "        90.5000])\n"
          ]
        },
        {
          "output_type": "execute_result",
          "data": {
            "text/plain": [
              "torch.float32"
            ]
          },
          "metadata": {},
          "execution_count": 58
        }
      ],
      "source": [
        "# Create a tensor and check its datatype\n",
        "tensor = torch.arange(10.5, 100.5, 10.)\n",
        "print(tensor)\n",
        "tensor.dtype"
      ]
    },
    {
      "cell_type": "code",
      "execution_count": 59,
      "id": "1c7ba7d6",
      "metadata": {
        "colab": {
          "base_uri": "https://localhost:8080/"
        },
        "id": "1c7ba7d6",
        "outputId": "a8ddd637-70c5-4ef8-f99c-8f700650733f",
        "papermill": {
          "duration": null,
          "end_time": null,
          "exception": null,
          "start_time": null,
          "status": "pending"
        },
        "tags": []
      },
      "outputs": [
        {
          "output_type": "execute_result",
          "data": {
            "text/plain": [
              "tensor([10.5000, 20.5000, 30.5000, 40.5000, 50.5000, 60.5000, 70.5000, 80.5000,\n",
              "        90.5000], dtype=torch.float16)"
            ]
          },
          "metadata": {},
          "execution_count": 59
        }
      ],
      "source": [
        "# Create a float16 tensor\n",
        "tensor_float16 = tensor.type(torch.float16)\n",
        "tensor_float16"
      ]
    },
    {
      "cell_type": "code",
      "execution_count": 60,
      "id": "6146a135",
      "metadata": {
        "colab": {
          "base_uri": "https://localhost:8080/"
        },
        "id": "6146a135",
        "outputId": "70526f7e-9764-4ffb-d260-fe74169d4c57",
        "papermill": {
          "duration": null,
          "end_time": null,
          "exception": null,
          "start_time": null,
          "status": "pending"
        },
        "tags": []
      },
      "outputs": [
        {
          "output_type": "execute_result",
          "data": {
            "text/plain": [
              "tensor([10, 20, 30, 40, 50, 60, 70, 80, 90], dtype=torch.int8)"
            ]
          },
          "metadata": {},
          "execution_count": 60
        }
      ],
      "source": [
        "# Create a int8 tensor\n",
        "tensor_int8 = tensor.type(torch.int8)\n",
        "tensor_int8"
      ]
    },
    {
      "cell_type": "code",
      "execution_count": 61,
      "id": "852d2cf7",
      "metadata": {
        "colab": {
          "base_uri": "https://localhost:8080/"
        },
        "id": "852d2cf7",
        "outputId": "ecabd39f-8859-403b-e1bd-a358578c8b53",
        "papermill": {
          "duration": null,
          "end_time": null,
          "exception": null,
          "start_time": null,
          "status": "pending"
        },
        "tags": []
      },
      "outputs": [
        {
          "output_type": "execute_result",
          "data": {
            "text/plain": [
              "(tensor([1., 2., 3., 4., 5., 6., 7.]), torch.Size([7]))"
            ]
          },
          "metadata": {},
          "execution_count": 61
        }
      ],
      "source": [
        "# Create a tensor\n",
        "import torch\n",
        "x = torch.arange(1., 8.)\n",
        "x, x.shape"
      ]
    },
    {
      "cell_type": "code",
      "execution_count": 62,
      "id": "207fdf80",
      "metadata": {
        "colab": {
          "base_uri": "https://localhost:8080/"
        },
        "id": "207fdf80",
        "outputId": "63c00bed-50c6-496f-d0a4-1a7ad96015f0",
        "papermill": {
          "duration": null,
          "end_time": null,
          "exception": null,
          "start_time": null,
          "status": "pending"
        },
        "tags": []
      },
      "outputs": [
        {
          "output_type": "execute_result",
          "data": {
            "text/plain": [
              "(tensor([[1., 2., 3., 4., 5., 6., 7.]]), torch.Size([1, 7]))"
            ]
          },
          "metadata": {},
          "execution_count": 62
        }
      ],
      "source": [
        "# Add an extra dimension\n",
        "x_reshaped = x.reshape(1, 7)\n",
        "x_reshaped, x_reshaped.shape"
      ]
    },
    {
      "cell_type": "code",
      "execution_count": 63,
      "id": "2fbc2c70",
      "metadata": {
        "colab": {
          "base_uri": "https://localhost:8080/"
        },
        "id": "2fbc2c70",
        "outputId": "a347b216-9a80-41c9-9446-b2a945024bd4",
        "papermill": {
          "duration": null,
          "end_time": null,
          "exception": null,
          "start_time": null,
          "status": "pending"
        },
        "tags": []
      },
      "outputs": [
        {
          "output_type": "execute_result",
          "data": {
            "text/plain": [
              "tensor([1., 2., 3., 4., 5., 6., 7.])"
            ]
          },
          "metadata": {},
          "execution_count": 63
        }
      ],
      "source": [
        "x"
      ]
    },
    {
      "cell_type": "code",
      "execution_count": 66,
      "id": "1e9a695f",
      "metadata": {
        "colab": {
          "base_uri": "https://localhost:8080/"
        },
        "id": "1e9a695f",
        "outputId": "f1edc644-ca82-4914-cd3f-14300c32f5fd",
        "papermill": {
          "duration": null,
          "end_time": null,
          "exception": null,
          "start_time": null,
          "status": "pending"
        },
        "tags": []
      },
      "outputs": [
        {
          "output_type": "execute_result",
          "data": {
            "text/plain": [
              "(tensor([[1., 2., 3., 4., 5., 6., 7.]]), torch.Size([1, 7]))"
            ]
          },
          "metadata": {},
          "execution_count": 66
        }
      ],
      "source": [
        "# Change view (keeps same data as original but changes view)\n",
        "# See more: https://stackoverflow.com/a/54507446/7900723\n",
        "z = x.view(1, 7)\n",
        "z, z.shape"
      ]
    },
    {
      "cell_type": "code",
      "execution_count": 67,
      "id": "b3556dcf",
      "metadata": {
        "colab": {
          "base_uri": "https://localhost:8080/"
        },
        "id": "b3556dcf",
        "outputId": "449c8339-313e-4e5b-8c6b-ff773b2c3e06",
        "papermill": {
          "duration": null,
          "end_time": null,
          "exception": null,
          "start_time": null,
          "status": "pending"
        },
        "tags": []
      },
      "outputs": [
        {
          "output_type": "execute_result",
          "data": {
            "text/plain": [
              "(tensor([[5., 2., 3., 4., 5., 6., 7.]]), tensor([5., 2., 3., 4., 5., 6., 7.]))"
            ]
          },
          "metadata": {},
          "execution_count": 67
        }
      ],
      "source": [
        "# Changing z changes x\n",
        "z[:, 0] = 5\n",
        "z, x"
      ]
    },
    {
      "cell_type": "code",
      "execution_count": 68,
      "id": "a37e5774",
      "metadata": {
        "colab": {
          "base_uri": "https://localhost:8080/"
        },
        "id": "a37e5774",
        "outputId": "58fa5d60-499e-44c6-b67b-90236c7817f7",
        "papermill": {
          "duration": null,
          "end_time": null,
          "exception": null,
          "start_time": null,
          "status": "pending"
        },
        "tags": []
      },
      "outputs": [
        {
          "output_type": "execute_result",
          "data": {
            "text/plain": [
              "(tensor([[5., 2., 3., 4., 5., 6., 7.],\n",
              "         [5., 2., 3., 4., 5., 6., 7.],\n",
              "         [5., 2., 3., 4., 5., 6., 7.],\n",
              "         [5., 2., 3., 4., 5., 6., 7.]]),\n",
              " torch.Size([4, 7]))"
            ]
          },
          "metadata": {},
          "execution_count": 68
        }
      ],
      "source": [
        "# Stack tensors on top of each other\n",
        "x_stacked = torch.stack([x, x, x, x], dim=0) # try changing dim to dim=1 and see what happens\n",
        "x_stacked,x_stacked.shape"
      ]
    },
    {
      "cell_type": "code",
      "execution_count": 69,
      "id": "b9accf5d",
      "metadata": {
        "colab": {
          "base_uri": "https://localhost:8080/"
        },
        "id": "b9accf5d",
        "outputId": "2e10f681-d15f-41fb-debc-35c9eceba5b9",
        "papermill": {
          "duration": null,
          "end_time": null,
          "exception": null,
          "start_time": null,
          "status": "pending"
        },
        "tags": []
      },
      "outputs": [
        {
          "output_type": "execute_result",
          "data": {
            "text/plain": [
              "(tensor([[5., 5., 5., 5.],\n",
              "         [2., 2., 2., 2.],\n",
              "         [3., 3., 3., 3.],\n",
              "         [4., 4., 4., 4.],\n",
              "         [5., 5., 5., 5.],\n",
              "         [6., 6., 6., 6.],\n",
              "         [7., 7., 7., 7.]]),\n",
              " torch.Size([7, 4]))"
            ]
          },
          "metadata": {},
          "execution_count": 69
        }
      ],
      "source": [
        "x_stacked = torch.stack([x, x, x, x], dim=1) #changing dim to dim=1 and see what happens\n",
        "x_stacked,x_stacked.shape"
      ]
    },
    {
      "cell_type": "code",
      "execution_count": 70,
      "id": "3c396e7a",
      "metadata": {
        "colab": {
          "base_uri": "https://localhost:8080/"
        },
        "id": "3c396e7a",
        "outputId": "0c0d58ab-0a14-44ff-858a-525039e126ea",
        "papermill": {
          "duration": null,
          "end_time": null,
          "exception": null,
          "start_time": null,
          "status": "pending"
        },
        "tags": []
      },
      "outputs": [
        {
          "output_type": "stream",
          "name": "stdout",
          "text": [
            "Previous tensor: tensor([[5., 2., 3., 4., 5., 6., 7.]])\n",
            "Previous shape: torch.Size([1, 7])\n",
            "\n",
            "New tensor: tensor([5., 2., 3., 4., 5., 6., 7.])\n",
            "New shape: torch.Size([7])\n"
          ]
        }
      ],
      "source": [
        "print(f\"Previous tensor: {x_reshaped}\")\n",
        "print(f\"Previous shape: {x_reshaped.shape}\")\n",
        "\n",
        "# Remove extra dimension from x_reshaped\n",
        "x_squeezed = x_reshaped.squeeze()\n",
        "print(f\"\\nNew tensor: {x_squeezed}\")\n",
        "print(f\"New shape: {x_squeezed.shape}\")"
      ]
    },
    {
      "cell_type": "code",
      "execution_count": 71,
      "id": "3ce6ad17",
      "metadata": {
        "colab": {
          "base_uri": "https://localhost:8080/"
        },
        "id": "3ce6ad17",
        "outputId": "1dbf9d92-1b79-4787-da73-f43eacede408",
        "papermill": {
          "duration": null,
          "end_time": null,
          "exception": null,
          "start_time": null,
          "status": "pending"
        },
        "tags": []
      },
      "outputs": [
        {
          "output_type": "stream",
          "name": "stdout",
          "text": [
            "\n",
            "New tensor: tensor([[5., 5., 5., 5.],\n",
            "        [2., 2., 2., 2.],\n",
            "        [3., 3., 3., 3.],\n",
            "        [4., 4., 4., 4.],\n",
            "        [5., 5., 5., 5.],\n",
            "        [6., 6., 6., 6.],\n",
            "        [7., 7., 7., 7.]])\n",
            "New shape: torch.Size([7, 4])\n"
          ]
        }
      ],
      "source": [
        "# x_stacked\n",
        "x_squeezed = x_stacked.squeeze()\n",
        "print(f\"\\nNew tensor: {x_squeezed}\")\n",
        "print(f\"New shape: {x_squeezed.shape}\")"
      ]
    },
    {
      "cell_type": "code",
      "execution_count": 72,
      "id": "cc69400d",
      "metadata": {
        "colab": {
          "base_uri": "https://localhost:8080/"
        },
        "id": "cc69400d",
        "outputId": "7ae0d5fd-0df6-4268-c65d-166e593d6c85",
        "papermill": {
          "duration": null,
          "end_time": null,
          "exception": null,
          "start_time": null,
          "status": "pending"
        },
        "tags": []
      },
      "outputs": [
        {
          "output_type": "stream",
          "name": "stdout",
          "text": [
            "Previous tensor: tensor([[5., 5., 5., 5.],\n",
            "        [2., 2., 2., 2.],\n",
            "        [3., 3., 3., 3.],\n",
            "        [4., 4., 4., 4.],\n",
            "        [5., 5., 5., 5.],\n",
            "        [6., 6., 6., 6.],\n",
            "        [7., 7., 7., 7.]])\n",
            "Previous shape: torch.Size([7, 4])\n",
            "\n",
            "New tensor: tensor([[[5., 5., 5., 5.],\n",
            "         [2., 2., 2., 2.],\n",
            "         [3., 3., 3., 3.],\n",
            "         [4., 4., 4., 4.],\n",
            "         [5., 5., 5., 5.],\n",
            "         [6., 6., 6., 6.],\n",
            "         [7., 7., 7., 7.]]])\n",
            "New shape: torch.Size([1, 7, 4])\n"
          ]
        }
      ],
      "source": [
        "print(f\"Previous tensor: {x_squeezed}\")\n",
        "print(f\"Previous shape: {x_squeezed.shape}\")\n",
        "\n",
        "## Add an extra dimension with unsqueeze\n",
        "x_unsqueezed = x_squeezed.unsqueeze(dim=0)\n",
        "print(f\"\\nNew tensor: {x_unsqueezed}\")\n",
        "print(f\"New shape: {x_unsqueezed.shape}\")"
      ]
    },
    {
      "cell_type": "code",
      "execution_count": 73,
      "id": "533a1fe5",
      "metadata": {
        "colab": {
          "base_uri": "https://localhost:8080/"
        },
        "id": "533a1fe5",
        "outputId": "38110707-539e-4130-f899-5b6aba415223",
        "papermill": {
          "duration": null,
          "end_time": null,
          "exception": null,
          "start_time": null,
          "status": "pending"
        },
        "tags": []
      },
      "outputs": [
        {
          "output_type": "stream",
          "name": "stdout",
          "text": [
            "Previous shape: torch.Size([224, 224, 3])\n",
            "New shape: torch.Size([3, 224, 224])\n"
          ]
        }
      ],
      "source": [
        "# Create tensor with specific shape\n",
        "x_original = torch.rand(size=(224, 224, 3))\n",
        "\n",
        "# Permute the original tensor to rearrange the axis order\n",
        "x_permuted = x_original.permute(2, 0, 1) # shifts axis 0->1, 1->2, 2->0\n",
        "\n",
        "print(f\"Previous shape: {x_original.shape}\")\n",
        "print(f\"New shape: {x_permuted.shape}\")"
      ]
    },
    {
      "cell_type": "code",
      "execution_count": 74,
      "id": "10985e2d",
      "metadata": {
        "colab": {
          "base_uri": "https://localhost:8080/"
        },
        "id": "10985e2d",
        "outputId": "c199f9ae-4d31-469f-969a-817e234d6198",
        "papermill": {
          "duration": null,
          "end_time": null,
          "exception": null,
          "start_time": null,
          "status": "pending"
        },
        "tags": []
      },
      "outputs": [
        {
          "output_type": "execute_result",
          "data": {
            "text/plain": [
              "(tensor([[[1, 2, 3],\n",
              "          [4, 5, 6],\n",
              "          [7, 8, 9]]]),\n",
              " torch.Size([1, 3, 3]))"
            ]
          },
          "metadata": {},
          "execution_count": 74
        }
      ],
      "source": [
        "# Create a tensor\n",
        "import torch\n",
        "x = torch.arange(1, 10).reshape(1, 3, 3)\n",
        "x, x.shape"
      ]
    },
    {
      "cell_type": "code",
      "execution_count": 75,
      "id": "239e29bc",
      "metadata": {
        "colab": {
          "base_uri": "https://localhost:8080/"
        },
        "id": "239e29bc",
        "outputId": "6b776493-f74c-402d-8aea-0419d889c9e9",
        "papermill": {
          "duration": null,
          "end_time": null,
          "exception": null,
          "start_time": null,
          "status": "pending"
        },
        "tags": []
      },
      "outputs": [
        {
          "output_type": "stream",
          "name": "stdout",
          "text": [
            "First square bracket:\n",
            "tensor([[1, 2, 3],\n",
            "        [4, 5, 6],\n",
            "        [7, 8, 9]])\n",
            "Second square bracket: tensor([1, 2, 3])\n",
            "Third square bracket: 1\n"
          ]
        }
      ],
      "source": [
        "# Let's index bracket by bracket\n",
        "print(f\"First square bracket:\\n{x[0]}\")\n",
        "print(f\"Second square bracket: {x[0][0]}\")\n",
        "print(f\"Third square bracket: {x[0][0][0]}\")"
      ]
    },
    {
      "cell_type": "code",
      "execution_count": 76,
      "id": "caf87f54",
      "metadata": {
        "colab": {
          "base_uri": "https://localhost:8080/"
        },
        "id": "caf87f54",
        "outputId": "fc01158b-0ad9-4200-c958-020d536e2aa0",
        "papermill": {
          "duration": null,
          "end_time": null,
          "exception": null,
          "start_time": null,
          "status": "pending"
        },
        "tags": []
      },
      "outputs": [
        {
          "output_type": "execute_result",
          "data": {
            "text/plain": [
              "tensor([[1, 2, 3]])"
            ]
          },
          "metadata": {},
          "execution_count": 76
        }
      ],
      "source": [
        "# Get all values of 0th dimension and the 0 index of 1st dimension\n",
        "x[:, 0]"
      ]
    },
    {
      "cell_type": "code",
      "execution_count": 77,
      "id": "7fcac80f",
      "metadata": {
        "colab": {
          "base_uri": "https://localhost:8080/"
        },
        "id": "7fcac80f",
        "outputId": "c68f7154-bfb4-463f-e5d0-0f408f212241",
        "papermill": {
          "duration": null,
          "end_time": null,
          "exception": null,
          "start_time": null,
          "status": "pending"
        },
        "tags": []
      },
      "outputs": [
        {
          "output_type": "execute_result",
          "data": {
            "text/plain": [
              "tensor([[2, 5, 8]])"
            ]
          },
          "metadata": {},
          "execution_count": 77
        }
      ],
      "source": [
        "# Get all values of 0th & 1st dimensions but only index 1 of 2nd dimension\n",
        "x[:, :, 1]"
      ]
    },
    {
      "cell_type": "code",
      "execution_count": 78,
      "id": "983b5048",
      "metadata": {
        "colab": {
          "base_uri": "https://localhost:8080/"
        },
        "id": "983b5048",
        "outputId": "aecb2195-971d-4886-b453-7d62130d7dfb",
        "papermill": {
          "duration": null,
          "end_time": null,
          "exception": null,
          "start_time": null,
          "status": "pending"
        },
        "tags": []
      },
      "outputs": [
        {
          "output_type": "execute_result",
          "data": {
            "text/plain": [
              "tensor([5])"
            ]
          },
          "metadata": {},
          "execution_count": 78
        }
      ],
      "source": [
        "# Get all values of the 0 dimension but only the 1 index value of the 1st and 2nd dimension\n",
        "x[:, 1, 1]"
      ]
    },
    {
      "cell_type": "code",
      "execution_count": 79,
      "id": "9798dddc",
      "metadata": {
        "colab": {
          "base_uri": "https://localhost:8080/"
        },
        "id": "9798dddc",
        "outputId": "46974d68-1cba-47a8-9b06-eaa3e93d07ef",
        "papermill": {
          "duration": null,
          "end_time": null,
          "exception": null,
          "start_time": null,
          "status": "pending"
        },
        "tags": []
      },
      "outputs": [
        {
          "output_type": "execute_result",
          "data": {
            "text/plain": [
              "tensor([1, 2, 3])"
            ]
          },
          "metadata": {},
          "execution_count": 79
        }
      ],
      "source": [
        "# Get index 0 of 0th and 1st dimension and all values of 2nd dimension\n",
        "x[0, 0, :] # same as x[0][0]"
      ]
    },
    {
      "cell_type": "code",
      "execution_count": 80,
      "id": "a19fcc42",
      "metadata": {
        "colab": {
          "base_uri": "https://localhost:8080/"
        },
        "id": "a19fcc42",
        "outputId": "293668ff-f9f9-4814-f70d-c3db83ce7427",
        "papermill": {
          "duration": null,
          "end_time": null,
          "exception": null,
          "start_time": null,
          "status": "pending"
        },
        "tags": []
      },
      "outputs": [
        {
          "output_type": "execute_result",
          "data": {
            "text/plain": [
              "(array([1., 2., 3., 4., 5., 6., 7.]),\n",
              " tensor([1., 2., 3., 4., 5., 6., 7.], dtype=torch.float64))"
            ]
          },
          "metadata": {},
          "execution_count": 80
        }
      ],
      "source": [
        "# NumPy array to tensor\n",
        "import torch\n",
        "import numpy as np\n",
        "array = np.arange(1.0, 8.0)\n",
        "tensor = torch.from_numpy(array)\n",
        "array, tensor"
      ]
    },
    {
      "cell_type": "code",
      "execution_count": 81,
      "id": "7957477b",
      "metadata": {
        "colab": {
          "base_uri": "https://localhost:8080/"
        },
        "id": "7957477b",
        "outputId": "37eb1415-b872-429c-8283-ddbba4bb69b2",
        "papermill": {
          "duration": null,
          "end_time": null,
          "exception": null,
          "start_time": null,
          "status": "pending"
        },
        "tags": []
      },
      "outputs": [
        {
          "output_type": "execute_result",
          "data": {
            "text/plain": [
              "(array([1., 2., 3., 4., 5., 6., 7.]),\n",
              " tensor([1., 2., 3., 4., 5., 6., 7.]),\n",
              " torch.float32)"
            ]
          },
          "metadata": {},
          "execution_count": 81
        }
      ],
      "source": [
        "# torch.from_numpy(array).type(torch.float32)\n",
        "array = np.arange(1.0, 8.0)\n",
        "tensor = torch.from_numpy(array).type(torch.float32)\n",
        "array, tensor,tensor.dtype"
      ]
    },
    {
      "cell_type": "code",
      "execution_count": 82,
      "id": "e7f147dc",
      "metadata": {
        "colab": {
          "base_uri": "https://localhost:8080/"
        },
        "id": "e7f147dc",
        "outputId": "68afec30-5ed7-4f4a-ab77-445bd13cebfc",
        "papermill": {
          "duration": null,
          "end_time": null,
          "exception": null,
          "start_time": null,
          "status": "pending"
        },
        "tags": []
      },
      "outputs": [
        {
          "output_type": "execute_result",
          "data": {
            "text/plain": [
              "(array([2., 3., 4., 5., 6., 7., 8.]), tensor([1., 2., 3., 4., 5., 6., 7.]))"
            ]
          },
          "metadata": {},
          "execution_count": 82
        }
      ],
      "source": [
        "# Change the array, keep the tensor\n",
        "array = array + 1\n",
        "array, tensor"
      ]
    },
    {
      "cell_type": "code",
      "execution_count": 83,
      "id": "793e5f60",
      "metadata": {
        "colab": {
          "base_uri": "https://localhost:8080/"
        },
        "id": "793e5f60",
        "outputId": "13f6e533-33e7-4cc4-a839-4ead9a5675bc",
        "papermill": {
          "duration": null,
          "end_time": null,
          "exception": null,
          "start_time": null,
          "status": "pending"
        },
        "tags": []
      },
      "outputs": [
        {
          "output_type": "execute_result",
          "data": {
            "text/plain": [
              "(tensor([1., 1., 1., 1., 1., 1., 1.]),\n",
              " array([1., 1., 1., 1., 1., 1., 1.], dtype=float32))"
            ]
          },
          "metadata": {},
          "execution_count": 83
        }
      ],
      "source": [
        "# Tensor to NumPy array\n",
        "tensor = torch.ones(7) # create a tensor of ones with dtype=float32\n",
        "numpy_tensor = tensor.numpy() # will be dtype=float32 unless changed\n",
        "tensor, numpy_tensor"
      ]
    },
    {
      "cell_type": "code",
      "execution_count": 84,
      "id": "059d9b13",
      "metadata": {
        "colab": {
          "base_uri": "https://localhost:8080/"
        },
        "id": "059d9b13",
        "outputId": "93c9aafb-8ab0-4a12-c791-9dbc64b97ece",
        "papermill": {
          "duration": null,
          "end_time": null,
          "exception": null,
          "start_time": null,
          "status": "pending"
        },
        "tags": []
      },
      "outputs": [
        {
          "output_type": "execute_result",
          "data": {
            "text/plain": [
              "(tensor([2., 2., 2., 2., 2., 2., 2.]),\n",
              " array([1., 1., 1., 1., 1., 1., 1.], dtype=float32))"
            ]
          },
          "metadata": {},
          "execution_count": 84
        }
      ],
      "source": [
        "# Change the tensor, keep the array the same\n",
        "tensor = tensor + 1\n",
        "tensor, numpy_tensor"
      ]
    },
    {
      "cell_type": "code",
      "execution_count": 85,
      "id": "8f3bfce6",
      "metadata": {
        "colab": {
          "base_uri": "https://localhost:8080/"
        },
        "id": "8f3bfce6",
        "outputId": "5e264235-252e-408d-a05c-1bf75f4f5301",
        "papermill": {
          "duration": null,
          "end_time": null,
          "exception": null,
          "start_time": null,
          "status": "pending"
        },
        "tags": []
      },
      "outputs": [
        {
          "output_type": "stream",
          "name": "stdout",
          "text": [
            "Tensor A:\n",
            "tensor([[0.8016, 0.3649, 0.6286, 0.9663],\n",
            "        [0.7687, 0.4566, 0.5745, 0.9200],\n",
            "        [0.3230, 0.8613, 0.0919, 0.3102]])\n",
            "\n",
            "Tensor B:\n",
            "tensor([[0.9536, 0.6002, 0.0351, 0.6826],\n",
            "        [0.3743, 0.5220, 0.1336, 0.9666],\n",
            "        [0.9754, 0.8474, 0.8988, 0.1105]])\n",
            "\n",
            "Does Tensor A equal Tensor B? (anywhere)\n"
          ]
        },
        {
          "output_type": "execute_result",
          "data": {
            "text/plain": [
              "tensor([[False, False, False, False],\n",
              "        [False, False, False, False],\n",
              "        [False, False, False, False]])"
            ]
          },
          "metadata": {},
          "execution_count": 85
        }
      ],
      "source": [
        "import torch\n",
        "\n",
        "# Create two random tensors\n",
        "random_tensor_A = torch.rand(3, 4)\n",
        "random_tensor_B = torch.rand(3, 4)\n",
        "\n",
        "print(f\"Tensor A:\\n{random_tensor_A}\\n\")\n",
        "print(f\"Tensor B:\\n{random_tensor_B}\\n\")\n",
        "print(f\"Does Tensor A equal Tensor B? (anywhere)\")\n",
        "random_tensor_A == random_tensor_B"
      ]
    },
    {
      "cell_type": "code",
      "execution_count": 86,
      "id": "daf33e5e",
      "metadata": {
        "colab": {
          "base_uri": "https://localhost:8080/"
        },
        "id": "daf33e5e",
        "outputId": "8502c425-5af1-4e0f-ff09-42961de55fef",
        "papermill": {
          "duration": null,
          "end_time": null,
          "exception": null,
          "start_time": null,
          "status": "pending"
        },
        "tags": []
      },
      "outputs": [
        {
          "output_type": "stream",
          "name": "stdout",
          "text": [
            "Tensor C:\n",
            "tensor([[0.8823, 0.9150, 0.3829, 0.9593],\n",
            "        [0.3904, 0.6009, 0.2566, 0.7936],\n",
            "        [0.9408, 0.1332, 0.9346, 0.5936]])\n",
            "\n",
            "Tensor D:\n",
            "tensor([[0.8823, 0.9150, 0.3829, 0.9593],\n",
            "        [0.3904, 0.6009, 0.2566, 0.7936],\n",
            "        [0.9408, 0.1332, 0.9346, 0.5936]])\n",
            "\n",
            "Does Tensor C equal Tensor D? (anywhere)\n"
          ]
        },
        {
          "output_type": "execute_result",
          "data": {
            "text/plain": [
              "tensor([[True, True, True, True],\n",
              "        [True, True, True, True],\n",
              "        [True, True, True, True]])"
            ]
          },
          "metadata": {},
          "execution_count": 86
        }
      ],
      "source": [
        "import torch\n",
        "import random\n",
        "\n",
        "# # Set the random seed\n",
        "RANDOM_SEED=42 # try changing this to different values and see what happens to the numbers below\n",
        "torch.manual_seed(seed=RANDOM_SEED)\n",
        "random_tensor_C = torch.rand(3, 4)\n",
        "\n",
        "# Have to reset the seed every time a new rand() is called\n",
        "# Without this, tensor_D would be different to tensor_C\n",
        "torch.random.manual_seed(seed=RANDOM_SEED) # try commenting this line out and seeing what happens\n",
        "random_tensor_D = torch.rand(3, 4)\n",
        "\n",
        "print(f\"Tensor C:\\n{random_tensor_C}\\n\")\n",
        "print(f\"Tensor D:\\n{random_tensor_D}\\n\")\n",
        "print(f\"Does Tensor C equal Tensor D? (anywhere)\")\n",
        "random_tensor_C == random_tensor_D"
      ]
    },
    {
      "cell_type": "code",
      "execution_count": 87,
      "id": "50c5c866",
      "metadata": {
        "colab": {
          "base_uri": "https://localhost:8080/"
        },
        "id": "50c5c866",
        "outputId": "8f5245bf-437f-4b58-fad2-97637adafadb",
        "papermill": {
          "duration": null,
          "end_time": null,
          "exception": null,
          "start_time": null,
          "status": "pending"
        },
        "tags": []
      },
      "outputs": [
        {
          "output_type": "stream",
          "name": "stdout",
          "text": [
            "/bin/bash: line 1: nvidia-smi: command not found\n"
          ]
        }
      ],
      "source": [
        "!nvidia-smi"
      ]
    },
    {
      "cell_type": "code",
      "execution_count": 88,
      "id": "5f4f81d2",
      "metadata": {
        "colab": {
          "base_uri": "https://localhost:8080/"
        },
        "id": "5f4f81d2",
        "outputId": "b940c08c-e5ba-44c6-9432-95da04840753",
        "papermill": {
          "duration": null,
          "end_time": null,
          "exception": null,
          "start_time": null,
          "status": "pending"
        },
        "tags": []
      },
      "outputs": [
        {
          "output_type": "execute_result",
          "data": {
            "text/plain": [
              "False"
            ]
          },
          "metadata": {},
          "execution_count": 88
        }
      ],
      "source": [
        "# Check for GPU\n",
        "import torch\n",
        "torch.cuda.is_available()"
      ]
    },
    {
      "cell_type": "code",
      "execution_count": 89,
      "id": "e687cfa7",
      "metadata": {
        "colab": {
          "base_uri": "https://localhost:8080/",
          "height": 35
        },
        "id": "e687cfa7",
        "outputId": "f264fc36-f365-43fa-baa9-7adc77ba413d",
        "papermill": {
          "duration": null,
          "end_time": null,
          "exception": null,
          "start_time": null,
          "status": "pending"
        },
        "tags": []
      },
      "outputs": [
        {
          "output_type": "execute_result",
          "data": {
            "text/plain": [
              "'cpu'"
            ],
            "application/vnd.google.colaboratory.intrinsic+json": {
              "type": "string"
            }
          },
          "metadata": {},
          "execution_count": 89
        }
      ],
      "source": [
        "# Set device type\n",
        "device = \"cuda\" if torch.cuda.is_available() else \"cpu\"\n",
        "device"
      ]
    },
    {
      "cell_type": "code",
      "execution_count": 90,
      "id": "97b088fd",
      "metadata": {
        "colab": {
          "base_uri": "https://localhost:8080/"
        },
        "id": "97b088fd",
        "outputId": "4a9e1c42-6405-49d4-faf6-011cf4e91e76",
        "papermill": {
          "duration": null,
          "end_time": null,
          "exception": null,
          "start_time": null,
          "status": "pending"
        },
        "tags": []
      },
      "outputs": [
        {
          "output_type": "execute_result",
          "data": {
            "text/plain": [
              "0"
            ]
          },
          "metadata": {},
          "execution_count": 90
        }
      ],
      "source": [
        "# Count number of devices\n",
        "torch.cuda.device_count()"
      ]
    },
    {
      "cell_type": "code",
      "execution_count": 91,
      "id": "b163c5c7",
      "metadata": {
        "colab": {
          "base_uri": "https://localhost:8080/"
        },
        "id": "b163c5c7",
        "outputId": "ce8b98d4-f499-4274-ab56-d14ba5fff7fc",
        "papermill": {
          "duration": null,
          "end_time": null,
          "exception": null,
          "start_time": null,
          "status": "pending"
        },
        "tags": []
      },
      "outputs": [
        {
          "output_type": "stream",
          "name": "stdout",
          "text": [
            "tensor([1, 2, 3]) cpu\n"
          ]
        },
        {
          "output_type": "execute_result",
          "data": {
            "text/plain": [
              "tensor([1, 2, 3])"
            ]
          },
          "metadata": {},
          "execution_count": 91
        }
      ],
      "source": [
        "# Create tensor (default on CPU)\n",
        "tensor = torch.tensor([1, 2, 3])\n",
        "\n",
        "# Tensor not on GPU\n",
        "print(tensor, tensor.device)\n",
        "\n",
        "# Move tensor to GPU (if available)\n",
        "tensor_on_gpu = tensor.to(device)\n",
        "tensor_on_gpu"
      ]
    },
    {
      "cell_type": "code",
      "execution_count": 92,
      "id": "008e388d",
      "metadata": {
        "colab": {
          "base_uri": "https://localhost:8080/"
        },
        "id": "008e388d",
        "outputId": "fb34cc01-ef59-459f-e5c4-78619a200152",
        "papermill": {
          "duration": null,
          "end_time": null,
          "exception": null,
          "start_time": null,
          "status": "pending"
        },
        "tags": []
      },
      "outputs": [
        {
          "output_type": "execute_result",
          "data": {
            "text/plain": [
              "array([1, 2, 3])"
            ]
          },
          "metadata": {},
          "execution_count": 92
        }
      ],
      "source": [
        "# If tensor is on GPU, can't transform it to NumPy (this will error)\n",
        "tensor_on_gpu.numpy()"
      ]
    },
    {
      "cell_type": "code",
      "execution_count": 93,
      "id": "1251c75f",
      "metadata": {
        "colab": {
          "base_uri": "https://localhost:8080/"
        },
        "id": "1251c75f",
        "outputId": "b4e45048-e22b-475f-cdec-a41b5a77741a",
        "papermill": {
          "duration": null,
          "end_time": null,
          "exception": null,
          "start_time": null,
          "status": "pending"
        },
        "tags": []
      },
      "outputs": [
        {
          "output_type": "execute_result",
          "data": {
            "text/plain": [
              "array([1, 2, 3])"
            ]
          },
          "metadata": {},
          "execution_count": 93
        }
      ],
      "source": [
        "# Instead, copy the tensor back to cpu\n",
        "tensor_back_on_cpu = tensor_on_gpu.cpu().numpy()\n",
        "tensor_back_on_cpu"
      ]
    },
    {
      "cell_type": "code",
      "execution_count": 94,
      "id": "397a1286",
      "metadata": {
        "colab": {
          "base_uri": "https://localhost:8080/"
        },
        "id": "397a1286",
        "outputId": "06c578b8-2fd7-4f1a-92f0-e0e6afa5eb2e",
        "papermill": {
          "duration": null,
          "end_time": null,
          "exception": null,
          "start_time": null,
          "status": "pending"
        },
        "tags": []
      },
      "outputs": [
        {
          "output_type": "execute_result",
          "data": {
            "text/plain": [
              "tensor([1, 2, 3])"
            ]
          },
          "metadata": {},
          "execution_count": 94
        }
      ],
      "source": [
        "tensor_on_gpu"
      ]
    },
    {
      "cell_type": "markdown",
      "id": "b35bfbc5",
      "metadata": {
        "id": "b35bfbc5",
        "papermill": {
          "duration": null,
          "end_time": null,
          "exception": null,
          "start_time": null,
          "status": "pending"
        },
        "tags": []
      },
      "source": [
        "# **Reference**\n",
        "\n",
        "learned from the site -\n",
        "https://www.learnpytorch.io/00_pytorch_fundamentals/"
      ]
    }
  ],
  "metadata": {
    "colab": {
      "provenance": []
    },
    "interpreter": {
      "hash": "3fbe1355223f7b2ffc113ba3ade6a2b520cadace5d5ec3e828c83ce02eb221bf"
    },
    "kernelspec": {
      "display_name": "Python 3",
      "name": "python3"
    },
    "language_info": {
      "codemirror_mode": {
        "name": "ipython",
        "version": 3
      },
      "file_extension": ".py",
      "mimetype": "text/x-python",
      "name": "python",
      "nbconvert_exporter": "python",
      "pygments_lexer": "ipython3",
      "version": "3.11.13"
    },
    "papermill": {
      "default_parameters": {},
      "duration": 13.834956,
      "end_time": "2025-08-05T14:13:48.551095",
      "environment_variables": {},
      "exception": true,
      "input_path": "__notebook__.ipynb",
      "output_path": "__notebook__.ipynb",
      "parameters": {},
      "start_time": "2025-08-05T14:13:34.716139",
      "version": "2.6.0"
    }
  },
  "nbformat": 4,
  "nbformat_minor": 5
}